{
 "cells": [
  {
   "cell_type": "markdown",
   "metadata": {},
   "source": [
    "# Project 2 - Classification and Regression\n",
    "\n",
    "Team Members:\n",
    "* Jeff Weltman\n",
    "* Jordan Kassof\n",
    "* Kevin Dickens"
   ]
  },
  {
   "cell_type": "markdown",
   "metadata": {},
   "source": [
    "# 1. Data Preparation 1 \n",
    "## Preparing Target Variables\n",
    "\n",
    "In our classification task, we will be predicting a binary variable that indicates whether or not a highschool's average SAT score is considered \"outperforming.\" This indicator variable is derived based on a threshold applied to the numeric average score. If a school's average SAT score is above 1080, for the purposes of this analysis, it is considered outperforming. While these classes aren't perfectly even, that is expected. It would be surprising to see an equal amount of outperforming and non-outperforming schools. The 262-159 class split isn't large enough for us to worry too much about class imbalance."
   ]
  },
  {
   "cell_type": "code",
   "execution_count": 2,
   "metadata": {},
   "outputs": [],
   "source": [
    "import numpy as np\n",
    "import pandas as pd\n",
    "\n",
    "# Initial dataset\n",
    "hs_2017 = pd.read_csv(\"hs_2017.csv\")\n",
    "\n",
    "# Preparing the Classification variables\n",
    "Y_class = hs_2017['sat_high_level']\n",
    "X_class = hs_2017.drop(columns=['nc_district', 'sat_high_level', 'sat_avg_score_num'])\n",
    "\n",
    "# Preparing the Regression variables\n",
    "Y_reg = hs_2017['GraduationRate_5yr_All']\n",
    "X_reg = hs_2017.drop(columns=['sat_high_level','sat_avg_score_num','lea_sat_avg_score_num'])"
   ]
  },
  {
   "cell_type": "markdown",
   "metadata": {},
   "source": [
    "### Classification Variable\n",
    "\n",
    "In our classification task, we will be predicting a binary integer variable that represents a one-hot encoding of whether or not a highschool's average SAT score \"outperforms\" expectations.  This indicator variable is derived based on a threshold applied to the numeric average score. If a school's average SAT score is above 1080, for the purposes of this analysis, it is considered outperforming. While these classes aren't perfectly even, that is expected. It would be surprising to see an equal amount of outperforming and non-outperforming schools. The 262-159 class split isn't large enough for us to worry too much about class imbalance."
   ]
  },
  {
   "cell_type": "code",
   "execution_count": 3,
   "metadata": {},
   "outputs": [
    {
     "data": {
      "image/png": "[encoded data removed]",
      "text/plain": [
       "<Figure size 432x288 with 1 Axes>"
      ]
     },
     "metadata": {},
     "output_type": "display_data"
    },
    {
     "data": {
      "text/plain": [
       "0.0    262\n",
       "1.0    159\n",
       "Name: sat_high_level, dtype: int64"
      ]
     },
     "execution_count": 3,
     "metadata": {},
     "output_type": "execute_result"
    }
   ],
   "source": [
    "import matplotlib.pyplot as plt\n",
    "\n",
    "# Checking Classification Variable Balance\n",
    "hs_2017.sat_high_level.value_counts().plot(kind='bar')\n",
    "plt.title(\"Non-Outperform and Outperform Counts\")\n",
    "plt.ylabel(\"Number of Schools\")\n",
    "plt.show()\n",
    "hs_2017.sat_high_level.value_counts()"
   ]
  },
  {
   "cell_type": "markdown",
   "metadata": {},
   "source": [
    "### Regression Variable\n",
    "\n",
    "In our regression task, we will be predicting the 5-year graduation rate for high schools in the public school system of North Carolina.  This variable represents the percentage of students graduating after five years and is stored as a floating point value.  This data was collected by the north carolina education department for the purpose of tracking school performance.  The distribution of the data follows a normal gaussian distribution although some 0 values are present which create a long tail."
   ]
  },
  {
   "cell_type": "code",
   "execution_count": 4,
   "metadata": {},
   "outputs": [
    {
     "data": {
      "image/png": "[encoded data removed]",
      "text/plain": [
       "<Figure size 432x288 with 2 Axes>"
      ]
     },
     "metadata": {},
     "output_type": "display_data"
    },
    {
     "data": {
      "text/plain": [
       "0    100.0\n",
       "1     86.9\n",
       "2     85.7\n",
       "3     74.8\n",
       "4     83.6\n",
       "Name: GraduationRate_5yr_All, dtype: float64"
      ]
     },
     "execution_count": 4,
     "metadata": {},
     "output_type": "execute_result"
    }
   ],
   "source": [
    "#Checking  Regression Variable Distribution\n",
    "\n",
    "import seaborn as sns\n",
    "import warnings\n",
    "warnings.filterwarnings('ignore')\n",
    "\n",
    "# Cut the window in 2 parts\n",
    "f, (ax_box, ax_hist) = plt.subplots(2, sharex=True, gridspec_kw={\"height_ratios\": (.15, .85)})\n",
    " \n",
    "# Add a graph in each part\n",
    "\n",
    "box = sns.boxplot(hs_2017[\"GraduationRate_5yr_All\"], ax=ax_box)\n",
    "dist = sns.distplot(hs_2017[\"GraduationRate_5yr_All\"], ax=ax_hist)\n",
    "\n",
    "box.set_title(\"Distribution of 5 Year Graduation Rates\\n\")\n",
    "\n",
    "# Remove x axis name for the boxplot\n",
    "ax_box.set(xlabel='')\n",
    "\n",
    "plt.show()\n",
    "hs_2017.GraduationRate_5yr_All.head()"
   ]
  },
  {
   "cell_type": "markdown",
   "metadata": {},
   "source": [
    "### Scaling\n",
    "\n",
    "In an attempt to correct distibution issues, we've scaled the data for both classification and regression tasks."
   ]
  },
  {
   "cell_type": "code",
   "execution_count": 5,
   "metadata": {},
   "outputs": [
    {
     "data": {
      "text/plain": [
       "StandardScaler(copy=True, with_mean=True, with_std=True)"
      ]
     },
     "execution_count": 5,
     "metadata": {},
     "output_type": "execute_result"
    }
   ],
   "source": [
    "from sklearn.preprocessing import StandardScaler\n",
    "\n",
    "# Standardize the data to a more normally distributed data\n",
    "scaler_class = StandardScaler()\n",
    "scaler_class.fit(X_class)\n",
    "\n",
    "scaler_reg = StandardScaler()\n",
    "scaler_reg.fit(X_reg)"
   ]
  },
  {
   "cell_type": "markdown",
   "metadata": {},
   "source": [
    "# 2. Data Preparation 2\n",
    "## Final Dataset\n",
    "\n",
    "This dataset underwent preprocessing prior to this project.  As a result the quality and integrity were at suitably high levels for the project needs.  During that preprocessing many columns were removed if they contained more than 60% null values and null values were then imputed with zeros across the rest of the data.  In practice, most columns either held a large amount of NULL values or none at all.\n",
    "\n",
    "For SAT data schools were removed if they did not report values either from masking due to low participation or actual no data available."
   ]
  },
  {
   "cell_type": "markdown",
   "metadata": {},
   "source": [
    "# 3. Modeling and Evaluation 1\n",
    "## Evaluation Metrics\n",
    "This section will discuss the measures of evaluation for both classification and regression tasks as well as define functions for use later in the code "
   ]
  },
  {
   "cell_type": "markdown",
   "metadata": {},
   "source": [
    "### Classification\n",
    "For classification, we opted to use precision as our scoring metric. As we sought to most accurately predict whether a school would overperform on average SAT score, we concluded that minimizing false positives would be of greatest value. In our scenario, the risk of a false positive is great. A false positive would mean indicating a school is likely to outperform when it actually is not. If this model were being used to help direct funds to in-need schools, a false positive would result in a school who really needs help being passed over for additional funding. Conversely, a false negative, where a school is labeled as non-outperform when it actually is doing well doesn't have as high a cost. The school won't receive additional funding, but they don't need it anyway. \n",
    "\n",
    "Precision is defined as $\\frac{TP}{TP+FP}$ where TP are true positives and FP are false positives. Looking at this formula, you can tell that precision optimizes for reducing false positives. As your FP value goes to 0, the precision score will approach 1 because the numerator and denomitor are equal.\n",
    "\n",
    "Below we define a custom Classification Evaluation function, [created by Dr. Jake Drew](https://github.com/jakemdrew/EducationDataNC/blob/master/2017/Models/2017ComparingSegregatedHighSchoolCampuses.ipynb), to efficiently determine a given model's accuracy, precision, and recall. We will utilize this function to assess model performance in classifying whether a school is or is not overperforming."
   ]
  },
  {
   "cell_type": "code",
   "execution_count": 25,
   "metadata": {},
   "outputs": [],
   "source": [
    "from sklearn.model_selection import cross_validate\n",
    "\n",
    "def EvaluateClassifierEstimator(classifierEstimator, X, y, cv):\n",
    "   \n",
    "    #Perform cross validation \n",
    "    scores = cross_validate(classifierEstimator, X, y, scoring=['accuracy','precision','recall']\n",
    "                            , cv=cv, return_train_score=True)\n",
    "\n",
    "    Accavg = scores['test_accuracy'].mean()\n",
    "    Preavg = scores['test_precision'].mean()\n",
    "    Recavg = scores['test_recall'].mean()\n",
    "\n",
    "    print_str = \"The average accuracy for all cv folds is: \\t\\t\\t {Accavg:.5}\"\n",
    "    print_str2 = \"The average precision for all cv folds is: \\t\\t\\t {Preavg:.5}\"\n",
    "    print_str3 = \"The average recall for all cv folds is: \\t\\t\\t {Recavg:.5}\"\n",
    "\n",
    "    print(print_str.format(Accavg=Accavg))\n",
    "    print(print_str2.format(Preavg=Preavg))\n",
    "    print(print_str3.format(Recavg=Recavg))\n",
    "    print('*********************************************************')\n",
    "\n",
    "    print('Cross Validation Fold Mean Error Scores')\n",
    "    scoresResults = pd.DataFrame()\n",
    "    scoresResults['Accuracy'] = scores['test_accuracy']\n",
    "    scoresResults['Precision'] = scores['test_precision']\n",
    "    scoresResults['Recall'] = scores['test_recall']\n",
    "\n",
    "    return scoresResults\n",
    "\n",
    "def EvaluateClassifierEstimator2(classifierEstimator, X, y, cv):\n",
    "    \n",
    "    #Perform cross validation \n",
    "    from sklearn.model_selection import cross_val_predict\n",
    "    predictions = cross_val_predict(classifierEstimator, X_Class, Y_Class, cv=cv)\n",
    "    \n",
    "    #model evaluation \n",
    "    from sklearn.metrics import classification_report, confusion_matrix, accuracy_score\n",
    "    \n",
    "    #pass true test set values and predictions to classification_report\n",
    "    classReport = classification_report(Y,predictions)\n",
    "    confMat = confusion_matrix(Y,predictions)\n",
    "    acc = accuracy_score(Y,predictions)\n",
    "    \n",
    "    print(classReport)\n",
    "    print(confMat)\n",
    "    print(acc)"
   ]
  },
  {
   "cell_type": "markdown",
   "metadata": {},
   "source": [
    "Next we create a function to plot out the confusion matrix."
   ]
  },
  {
   "cell_type": "code",
   "execution_count": 26,
   "metadata": {},
   "outputs": [],
   "source": [
    "# Function modified from source here: http://scikit-learn.org/stable/auto_examples/model_selection/plot_confusion_matrix.html\n",
    "\n",
    "import itertools\n",
    "def plot_confusion_matrix(cm, classes,\n",
    "                          normalize=False,\n",
    "                          title='Confusion matrix',\n",
    "                          cmap=plt.cm.Blues):\n",
    "    \"\"\"\n",
    "    This function prints and plots the confusion matrix.\n",
    "    Normalization can be applied by setting `normalize=True`.\n",
    "    \"\"\"\n",
    "    if normalize:\n",
    "        cm = cm.astype('float') / cm.sum(axis=1)[:, np.newaxis]\n",
    "\n",
    "    plt.imshow(cm, interpolation='nearest', cmap=cmap)\n",
    "    plt.title(title)\n",
    "    tick_marks = np.arange(len(classes))\n",
    "    plt.xticks(tick_marks, classes, rotation=45)\n",
    "    plt.yticks(tick_marks, classes)\n",
    "\n",
    "    fmt = '.2f' if normalize else 'd'\n",
    "    thresh = cm.max() / 2.\n",
    "    for i, j in itertools.product(range(cm.shape[0]), range(cm.shape[1])):\n",
    "        plt.text(j, i, format(cm[i, j], fmt),\n",
    "                 horizontalalignment=\"center\",\n",
    "                 color=\"white\" if cm[i, j] > thresh else \"black\")\n",
    "\n",
    "    plt.tight_layout()\n",
    "    plt.ylabel('True label')\n",
    "    plt.xlabel('Predicted label')"
   ]
  },
  {
   "cell_type": "markdown",
   "metadata": {},
   "source": [
    "### Regression\n",
    "*Root Mean Squared Error* (RMSE) was utilized as our primary regression model's scoring criterion. This represented the degree to which our predicted model deviated from the actual data. It is widely used in regression task as a measurement of variance between the predicted and actual data and was therefore deemed the most appropriate metric for our regression tasks. RMSE is considered appropriate to represent model performance when the error distribution is normally distributed. "
   ]
  },
  {
   "cell_type": "code",
   "execution_count": 27,
   "metadata": {},
   "outputs": [],
   "source": [
    "from  sklearn.model_selection import cross_validate\n",
    "from sklearn.metrics import mean_absolute_error, make_scorer, mean_squared_error\n",
    "\n",
    "# Define function for Root mean squared error\n",
    "#https://stackoverflow.com/questions/17197492/root-mean-square-error-in-python\n",
    "def rmse(y, y_pred):\n",
    "    return np.sqrt(mean_squared_error(y, y_pred))\n",
    "\n",
    "#define Function for Mean Absolute Percentage Error (MAPE)\n",
    "#From: https://github.com/jakemdrew/EducationDataNC/blob/master/Other%20Projects/iPython%20Notebooks/Machine%20Learning/Graduation%20Rates%20February%202018%20-%205%20Years%20Expanded.ipynb\n",
    "#Adapted from: https://stackoverflow.com/questions/42250958/how-to-optimize-mape-code-in-python\n",
    "def mape(y, y_pred): \n",
    "    mask = y != 0\n",
    "    return (np.fabs(y - y_pred)/y)[mask].mean() * 100\n",
    "\n",
    "#Scoring functions\n",
    "mae_scorer = make_scorer(score_func=mean_absolute_error, greater_is_better=False)\n",
    "rmse_scorer = make_scorer(score_func=rmse, greater_is_better=False)\n",
    "mape_scorer = make_scorer(score_func=mape, greater_is_better=False)\n",
    "\n",
    "#Array created to score individual folds\n",
    "errorScoring = {'MAE':  mae_scorer, \n",
    "                'RMSE': rmse_scorer,\n",
    "                'MAPE': mape_scorer\n",
    "               }\n",
    "\n",
    "\n",
    "def EvaluateRegressionEstimator(regEstimator, X, y, cv):\n",
    "    \n",
    "    scores = cross_validate(regEstimator, X, y, scoring=errorScoring, cv=cv, return_train_score=True)\n",
    "\n",
    "    #cross val score sign-flips the outputs of MAE\n",
    "    #From: https://github.com/jakemdrew/EducationDataNC/blob/master/Other%20Projects/iPython%20Notebooks/Machine%20Learning/Graduation%20Rates%20February%202018%20-%205%20Years%20Expanded.ipynb\n",
    "    #Adapted from: https://github.com/scikit-learn/scikit-learn/issues/2439\n",
    "    scores['test_MAE'] = scores['test_MAE'] * -1\n",
    "    scores['test_MAPE'] = scores['test_MAPE'] * -1\n",
    "    scores['test_RMSE'] = scores['test_RMSE'] * -1\n",
    "\n",
    "    #print mean MAE for all folds \n",
    "    maeAvg = scores['test_MAE'].mean()\n",
    "    print_str = \"The average MAE for all cv folds is: \\t\\t\\t {maeAvg:.5}\"\n",
    "    print(print_str.format(maeAvg=maeAvg))\n",
    "\n",
    "    #print mean test_MAPE for all folds\n",
    "    scores['test_MAPE'] = scores['test_MAPE']\n",
    "    mape_avg = scores['test_MAPE'].mean()\n",
    "    print_str = \"The average MAE percentage (MAPE) for all cv folds is: \\t {mape_avg:.5}\"\n",
    "    print(print_str.format(mape_avg=mape_avg))\n",
    "\n",
    "    #print mean MAE for all folds \n",
    "    RMSEavg = scores['test_RMSE'].mean()\n",
    "    print_str = \"The average RMSE for all cv folds is: \\t\\t\\t {RMSEavg:.5}\"\n",
    "    print(print_str.format(RMSEavg=RMSEavg))\n",
    "    print('*********************************************************')\n",
    "\n",
    "    print('Cross Validation Fold Mean Error Scores')\n",
    "    scoresResults = pd.DataFrame()\n",
    "    scoresResults['MAE'] = scores['test_MAE']\n",
    "    scoresResults['MAPE'] = scores['test_MAPE']\n",
    "    scoresResults['RMSE'] = scores['test_RMSE']\n",
    "    return scoresResults"
   ]
  },
  {
   "cell_type": "markdown",
   "metadata": {},
   "source": [
    "# 4. Modeling and Evaluation 2\n",
    "## Data Sampling Methodology"
   ]
  },
  {
   "cell_type": "markdown",
   "metadata": {},
   "source": [
    "As the classification task's response variable is binary and not balanced - although, as mentioned above, the imbalance was not anticipated to be cause for concern - we used StratifiedShuffleSplit for classification. This ensured that each of the 10 folds would include an overperforming and non-overperforming school. Best results for this stratified 10-fold cross-validation included an 80/20 train-test split."
   ]
  },
  {
   "cell_type": "code",
   "execution_count": 28,
   "metadata": {},
   "outputs": [],
   "source": [
    "#Divide data into test and training splits\n",
    "from sklearn.model_selection import StratifiedShuffleSplit\n",
    "\n",
    "cv_class = StratifiedShuffleSplit(n_splits=10, test_size=0.20, random_state=0)"
   ]
  },
  {
   "cell_type": "markdown",
   "metadata": {},
   "source": [
    "For the regression tasks, we employed the ShuffleSplit cross-validation with 10 folds to thoroughly randomize our sampling. We found that a 60/40 train/test split yielded the best results for each of our regression tasks."
   ]
  },
  {
   "cell_type": "code",
   "execution_count": 29,
   "metadata": {},
   "outputs": [],
   "source": [
    "#Divide data into test and training splits\n",
    "from sklearn.model_selection import ShuffleSplit\n",
    "\n",
    "cv_reg = ShuffleSplit(n_splits=10, test_size=0.40, random_state=0)"
   ]
  },
  {
   "cell_type": "markdown",
   "metadata": {},
   "source": [
    "# 5. Modeling and Analysis\n",
    "## Classification Tasks\n",
    "We look at three different classification tasks for this project:\n",
    "\n",
    "* Logistic Regression\n",
    "* K Nearest Neighbors\n",
    "* Random Forest"
   ]
  },
  {
   "cell_type": "markdown",
   "metadata": {},
   "source": [
    "## Logistic Regression\n",
    "Logistic Regression is a common form of classification for dichotomous variables.  It performs the predictive analysis by estimating the log odds of an event and assigning a binary 1 or 0 dependant upon those log odds.  For logistic regression to effectively classify these values the data shouldn't contain large outliers and no multicollinearity should be present amongst the predictors."
   ]
  },
  {
   "cell_type": "code",
   "execution_count": 12,
   "metadata": {},
   "outputs": [
    {
     "data": {
      "text/plain": [
       "Pipeline(memory=None,\n",
       "     steps=[('standardscaler', StandardScaler(copy=True, with_mean=True, with_std=True)), ('logisticregression', LogisticRegression(C=0.001, class_weight='none', dual=False,\n",
       "          fit_intercept=True, intercept_scaling=1, max_iter=100,\n",
       "          multi_class='ovr', n_jobs=1, penalty='l2', random_state=0,\n",
       "          solver='lbfgs', tol=0.0001, verbose=0, warm_start=False))])"
      ]
     },
     "execution_count": 12,
     "metadata": {},
     "output_type": "execute_result"
    }
   ],
   "source": [
    "from sklearn.pipeline import make_pipeline\n",
    "from sklearn.model_selection import GridSearchCV\n",
    "from sklearn.linear_model import LogisticRegression\n",
    "from sklearn.preprocessing import StandardScaler\n",
    "from sklearn.model_selection import ShuffleSplit\n",
    "\n",
    "#create a pipeline to scale all of the data and perform logistic regression during each grid search step.\n",
    "pipe = make_pipeline(StandardScaler(), LogisticRegression())\n",
    "\n",
    "# Define a range of hyper parameters for grid search\n",
    "parameters = { 'logisticregression__penalty':['l2']\n",
    "              ,'logisticregression__C': [0.001, 0.01, 0.1, 1, 10, 100, 1000]\n",
    "              ,'logisticregression__class_weight': ['balanced','none']\n",
    "              ,'logisticregression__random_state': [0]\n",
    "              ,'logisticregression__solver': ['lbfgs']\n",
    "              ,'logisticregression__max_iter':[100,500]\n",
    "             }\n",
    "\n",
    "#Perform the grid search using accuracy as a metric during cross validation.\n",
    "grid = GridSearchCV(pipe, parameters, cv=cv_class, scoring='precision')\n",
    "\n",
    "#Use the best features from recursive feature elimination during the grid search\n",
    "grid.fit(X_class, Y_class)\n",
    "\n",
    "#display the best pipeline model identified during the grid search\n",
    "grid.best_estimator_"
   ]
  },
  {
   "cell_type": "code",
   "execution_count": 13,
   "metadata": {},
   "outputs": [
    {
     "name": "stdout",
     "output_type": "stream",
     "text": [
      "The average accuracy for all cv folds is: \t\t\t 0.85765\n",
      "The average precision for all cv folds is: \t\t\t 0.87108\n",
      "The average recall for all cv folds is: \t\t\t 0.72813\n",
      "*********************************************************\n",
      "Cross Validation Fold Mean Error Scores\n"
     ]
    },
    {
     "data": {
      "text/html": [
       "<div>\n",
       "<style scoped>\n",
       "    .dataframe tbody tr th:only-of-type {\n",
       "        vertical-align: middle;\n",
       "    }\n",
       "\n",
       "    .dataframe tbody tr th {\n",
       "        vertical-align: top;\n",
       "    }\n",
       "\n",
       "    .dataframe thead th {\n",
       "        text-align: right;\n",
       "    }\n",
       "</style>\n",
       "<table border=\"1\" class=\"dataframe\">\n",
       "  <thead>\n",
       "    <tr style=\"text-align: right;\">\n",
       "      <th></th>\n",
       "      <th>Accuracy</th>\n",
       "      <th>Precision</th>\n",
       "      <th>Recall</th>\n",
       "    </tr>\n",
       "  </thead>\n",
       "  <tbody>\n",
       "    <tr>\n",
       "      <th>0</th>\n",
       "      <td>0.835294</td>\n",
       "      <td>0.846154</td>\n",
       "      <td>0.68750</td>\n",
       "    </tr>\n",
       "    <tr>\n",
       "      <th>1</th>\n",
       "      <td>0.847059</td>\n",
       "      <td>0.880000</td>\n",
       "      <td>0.68750</td>\n",
       "    </tr>\n",
       "    <tr>\n",
       "      <th>2</th>\n",
       "      <td>0.835294</td>\n",
       "      <td>0.875000</td>\n",
       "      <td>0.65625</td>\n",
       "    </tr>\n",
       "    <tr>\n",
       "      <th>3</th>\n",
       "      <td>0.894118</td>\n",
       "      <td>0.896552</td>\n",
       "      <td>0.81250</td>\n",
       "    </tr>\n",
       "    <tr>\n",
       "      <th>4</th>\n",
       "      <td>0.905882</td>\n",
       "      <td>0.875000</td>\n",
       "      <td>0.87500</td>\n",
       "    </tr>\n",
       "    <tr>\n",
       "      <th>5</th>\n",
       "      <td>0.882353</td>\n",
       "      <td>0.923077</td>\n",
       "      <td>0.75000</td>\n",
       "    </tr>\n",
       "    <tr>\n",
       "      <th>6</th>\n",
       "      <td>0.905882</td>\n",
       "      <td>0.900000</td>\n",
       "      <td>0.84375</td>\n",
       "    </tr>\n",
       "    <tr>\n",
       "      <th>7</th>\n",
       "      <td>0.800000</td>\n",
       "      <td>0.826087</td>\n",
       "      <td>0.59375</td>\n",
       "    </tr>\n",
       "    <tr>\n",
       "      <th>8</th>\n",
       "      <td>0.800000</td>\n",
       "      <td>0.800000</td>\n",
       "      <td>0.62500</td>\n",
       "    </tr>\n",
       "    <tr>\n",
       "      <th>9</th>\n",
       "      <td>0.870588</td>\n",
       "      <td>0.888889</td>\n",
       "      <td>0.75000</td>\n",
       "    </tr>\n",
       "  </tbody>\n",
       "</table>\n",
       "</div>"
      ],
      "text/plain": [
       "   Accuracy  Precision   Recall\n",
       "0  0.835294   0.846154  0.68750\n",
       "1  0.847059   0.880000  0.68750\n",
       "2  0.835294   0.875000  0.65625\n",
       "3  0.894118   0.896552  0.81250\n",
       "4  0.905882   0.875000  0.87500\n",
       "5  0.882353   0.923077  0.75000\n",
       "6  0.905882   0.900000  0.84375\n",
       "7  0.800000   0.826087  0.59375\n",
       "8  0.800000   0.800000  0.62500\n",
       "9  0.870588   0.888889  0.75000"
      ]
     },
     "execution_count": 13,
     "metadata": {},
     "output_type": "execute_result"
    }
   ],
   "source": [
    "EvaluateClassifierEstimator(grid.best_estimator_, X_class, Y_class, cv_class)"
   ]
  },
  {
   "cell_type": "markdown",
   "metadata": {},
   "source": [
    "## K Nearest Neighbors\n",
    "K-Neighbors classifiers measure the distance between points according to a supplied distance metric. Once that distance is calculated, the nearest points - a number of which is identified by the variable *k* - are compared with the current point.  \n",
    "  \n",
    "We utilized a cross-validated GridSearch to obtain the best combination of parameters out of 290 potential models."
   ]
  },
  {
   "cell_type": "code",
   "execution_count": 14,
   "metadata": {},
   "outputs": [
    {
     "name": "stdout",
     "output_type": "stream",
     "text": [
      "Fitting 10 folds for each of 290 candidates, totalling 2900 fits\n"
     ]
    },
    {
     "name": "stderr",
     "output_type": "stream",
     "text": [
      "[Parallel(n_jobs=4)]: Done  76 tasks      | elapsed:    3.3s\n",
      "[Parallel(n_jobs=4)]: Done 376 tasks      | elapsed:   17.8s\n",
      "[Parallel(n_jobs=4)]: Done 876 tasks      | elapsed:   39.3s\n",
      "[Parallel(n_jobs=4)]: Done 1576 tasks      | elapsed:  1.1min\n",
      "[Parallel(n_jobs=4)]: Done 2476 tasks      | elapsed:  1.9min\n",
      "[Parallel(n_jobs=4)]: Done 2900 out of 2900 | elapsed:  2.3min finished\n"
     ]
    },
    {
     "data": {
      "text/plain": [
       "GridSearchCV(cv=StratifiedShuffleSplit(n_splits=10, random_state=0, test_size=0.2,\n",
       "            train_size=None),\n",
       "       error_score='raise',\n",
       "       estimator=Pipeline(memory=None,\n",
       "     steps=[('standardscaler', StandardScaler(copy=True, with_mean=True, with_std=True)), ('kneighborsclassifier', KNeighborsClassifier(algorithm='auto', leaf_size=30, metric='minkowski',\n",
       "           metric_params=None, n_jobs=1, n_neighbors=5, p=2,\n",
       "           weights='uniform'))]),\n",
       "       fit_params=None, iid=True, n_jobs=4,\n",
       "       param_grid={'kneighborsclassifier__n_neighbors': [1, 2, 3, 4, 5, 6, 7, 8, 9, 10, 11, 12, 13, 14, 15, 16, 17, 18, 19, 20, 21, 22, 23, 24, 25, 26, 27, 28, 29], 'kneighborsclassifier__weights': ['uniform', 'distance'], 'kneighborsclassifier__metric': ['euclidean', 'chebyshev', 'manhattan', 'minkowski', 'jaccard']},\n",
       "       pre_dispatch='2*n_jobs', refit=True, return_train_score='warn',\n",
       "       scoring='precision', verbose=1)"
      ]
     },
     "execution_count": 14,
     "metadata": {},
     "output_type": "execute_result"
    }
   ],
   "source": [
    "#KNN 10-fold cross-validation \n",
    "from sklearn.neighbors import KNeighborsClassifier\n",
    "from sklearn.model_selection import GridSearchCV\n",
    "from scipy.spatial.distance import euclidean\n",
    "from scipy.spatial.distance import jaccard\n",
    "from sklearn.pipeline import make_pipeline\n",
    "from sklearn.preprocessing import StandardScaler\n",
    "from sklearn.model_selection import StratifiedShuffleSplit\n",
    "import warnings\n",
    "warnings.filterwarnings('ignore')\n",
    "\n",
    "knc = KNeighborsClassifier(n_neighbors=5)\n",
    "knn_pipe = make_pipeline(StandardScaler(), knc)\n",
    "\n",
    "\n",
    "k_range = list(range(1, 30))\n",
    "metrics = ['euclidean','chebyshev','manhattan','minkowski','jaccard']\n",
    "weights_options = ['uniform','distance']\n",
    "\n",
    "knn_parameters = {'kneighborsclassifier__n_neighbors': k_range,'kneighborsclassifier__weights': weights_options, 'kneighborsclassifier__metric': metrics}\n",
    "\n",
    "#Create a grid search object using the defined parameters\n",
    "\n",
    "kGridSearch = GridSearchCV(knn_pipe,param_grid=knn_parameters,n_jobs=4,verbose=1,cv=cv_class,scoring='precision')\n",
    "\n",
    "#Perform hyperparameter search to find the best combination of parameters for our data\n",
    "kGridSearch.fit(X_class, Y_class)"
   ]
  },
  {
   "cell_type": "code",
   "execution_count": 15,
   "metadata": {},
   "outputs": [
    {
     "data": {
      "text/plain": [
       "Pipeline(memory=None,\n",
       "     steps=[('standardscaler', StandardScaler(copy=True, with_mean=True, with_std=True)), ('kneighborsclassifier', KNeighborsClassifier(algorithm='auto', leaf_size=30, metric='euclidean',\n",
       "           metric_params=None, n_jobs=1, n_neighbors=28, p=2,\n",
       "           weights='uniform'))])"
      ]
     },
     "execution_count": 15,
     "metadata": {},
     "output_type": "execute_result"
    }
   ],
   "source": [
    "#Diplay the top model parameters\n",
    "# kGridSearch.best_params_\n",
    "kGridSearch.best_estimator_"
   ]
  },
  {
   "cell_type": "code",
   "execution_count": 16,
   "metadata": {},
   "outputs": [
    {
     "name": "stdout",
     "output_type": "stream",
     "text": [
      "The average accuracy for all cv folds is: \t\t\t 0.82235\n",
      "The average precision for all cv folds is: \t\t\t 0.8736\n",
      "The average recall for all cv folds is: \t\t\t 0.61562\n",
      "*********************************************************\n",
      "Cross Validation Fold Mean Error Scores\n"
     ]
    },
    {
     "data": {
      "text/html": [
       "<div>\n",
       "<style scoped>\n",
       "    .dataframe tbody tr th:only-of-type {\n",
       "        vertical-align: middle;\n",
       "    }\n",
       "\n",
       "    .dataframe tbody tr th {\n",
       "        vertical-align: top;\n",
       "    }\n",
       "\n",
       "    .dataframe thead th {\n",
       "        text-align: right;\n",
       "    }\n",
       "</style>\n",
       "<table border=\"1\" class=\"dataframe\">\n",
       "  <thead>\n",
       "    <tr style=\"text-align: right;\">\n",
       "      <th></th>\n",
       "      <th>Accuracy</th>\n",
       "      <th>Precision</th>\n",
       "      <th>Recall</th>\n",
       "    </tr>\n",
       "  </thead>\n",
       "  <tbody>\n",
       "    <tr>\n",
       "      <th>0</th>\n",
       "      <td>0.788235</td>\n",
       "      <td>0.888889</td>\n",
       "      <td>0.50000</td>\n",
       "    </tr>\n",
       "    <tr>\n",
       "      <th>1</th>\n",
       "      <td>0.800000</td>\n",
       "      <td>0.857143</td>\n",
       "      <td>0.56250</td>\n",
       "    </tr>\n",
       "    <tr>\n",
       "      <th>2</th>\n",
       "      <td>0.788235</td>\n",
       "      <td>0.850000</td>\n",
       "      <td>0.53125</td>\n",
       "    </tr>\n",
       "    <tr>\n",
       "      <th>3</th>\n",
       "      <td>0.882353</td>\n",
       "      <td>0.923077</td>\n",
       "      <td>0.75000</td>\n",
       "    </tr>\n",
       "    <tr>\n",
       "      <th>4</th>\n",
       "      <td>0.847059</td>\n",
       "      <td>0.851852</td>\n",
       "      <td>0.71875</td>\n",
       "    </tr>\n",
       "    <tr>\n",
       "      <th>5</th>\n",
       "      <td>0.823529</td>\n",
       "      <td>0.869565</td>\n",
       "      <td>0.62500</td>\n",
       "    </tr>\n",
       "    <tr>\n",
       "      <th>6</th>\n",
       "      <td>0.894118</td>\n",
       "      <td>0.925926</td>\n",
       "      <td>0.78125</td>\n",
       "    </tr>\n",
       "    <tr>\n",
       "      <th>7</th>\n",
       "      <td>0.752941</td>\n",
       "      <td>0.823529</td>\n",
       "      <td>0.43750</td>\n",
       "    </tr>\n",
       "    <tr>\n",
       "      <th>8</th>\n",
       "      <td>0.788235</td>\n",
       "      <td>0.888889</td>\n",
       "      <td>0.50000</td>\n",
       "    </tr>\n",
       "    <tr>\n",
       "      <th>9</th>\n",
       "      <td>0.858824</td>\n",
       "      <td>0.857143</td>\n",
       "      <td>0.75000</td>\n",
       "    </tr>\n",
       "  </tbody>\n",
       "</table>\n",
       "</div>"
      ],
      "text/plain": [
       "   Accuracy  Precision   Recall\n",
       "0  0.788235   0.888889  0.50000\n",
       "1  0.800000   0.857143  0.56250\n",
       "2  0.788235   0.850000  0.53125\n",
       "3  0.882353   0.923077  0.75000\n",
       "4  0.847059   0.851852  0.71875\n",
       "5  0.823529   0.869565  0.62500\n",
       "6  0.894118   0.925926  0.78125\n",
       "7  0.752941   0.823529  0.43750\n",
       "8  0.788235   0.888889  0.50000\n",
       "9  0.858824   0.857143  0.75000"
      ]
     },
     "execution_count": 16,
     "metadata": {},
     "output_type": "execute_result"
    }
   ],
   "source": [
    "EvaluateClassifierEstimator(kGridSearch.best_estimator_, X_class, Y_class, cv_class)"
   ]
  },
  {
   "cell_type": "markdown",
   "metadata": {},
   "source": [
    "### Random Forest\n",
    "\n",
    "The Random Forest is a relatively new machine learning algorithm, invented in the 1990s. It is an ensemble method extension of the decision tree. As an extension of decision trees, random forests can be used for both classification and regression. We will be focusing exclusively on classification random forests, but most commentary can be applied to both types of random forests. \n",
    "\n",
    "In the random forest algorithm, you take a random subset of your data's features, grow a shallow decision tree, take note of the predicted class, then repeat that process over and over. The class that is predicted most often by all of the decision trees is the output of the random forest. Given the above description, there are **three primary parameters** available to optimize the algorithm. \n",
    "\n",
    "- **n_features:** This parameter indicates the number of random features to select from the full dataset for each tree in the forest. This can either be a specific number, or a selection method.\n",
    "- **max_depth:** This parameter drives the maximum depth of any of the decision trees grown\n",
    "- **n_estimators:** The number of trees to grow\n",
    "\n",
    "Below is a visual explanation for how the 3 parameters affect a random forest , with the names of the parameters highlighted in red.\n",
    "\n",
    "<center><img src='random_forest.png' width = '75%'></center>\n",
    "\n",
    "There are actually several other parameters available when growing a random forest, they are mostly related to the details of how each individual decision tree is grown. These parameters include the metric used for node splitting (gini impurity or entropy), the minimum number of samples required to split a node, the minimum impurity decrease to split a node, and others.\n",
    "\n",
    "Below we will grow a random forest using the default parameters, and examine the resulting model's quality based on previous discussed metrics. To get a sense for out-of-sample error, we will break out 20% of our data and only use that for testing."
   ]
  },
  {
   "cell_type": "code",
   "execution_count": 35,
   "metadata": {},
   "outputs": [
    {
     "name": "stdout",
     "output_type": "stream",
     "text": [
      "The average accuracy for all cv folds is: \t\t\t 0.84706\n",
      "The average precision for all cv folds is: \t\t\t 0.84117\n",
      "The average recall for all cv folds is: \t\t\t 0.73125\n",
      "*********************************************************\n",
      "Cross Validation Fold Mean Error Scores\n"
     ]
    },
    {
     "data": {
      "text/html": [
       "<div>\n",
       "<style scoped>\n",
       "    .dataframe tbody tr th:only-of-type {\n",
       "        vertical-align: middle;\n",
       "    }\n",
       "\n",
       "    .dataframe tbody tr th {\n",
       "        vertical-align: top;\n",
       "    }\n",
       "\n",
       "    .dataframe thead th {\n",
       "        text-align: right;\n",
       "    }\n",
       "</style>\n",
       "<table border=\"1\" class=\"dataframe\">\n",
       "  <thead>\n",
       "    <tr style=\"text-align: right;\">\n",
       "      <th></th>\n",
       "      <th>Accuracy</th>\n",
       "      <th>Precision</th>\n",
       "      <th>Recall</th>\n",
       "    </tr>\n",
       "  </thead>\n",
       "  <tbody>\n",
       "    <tr>\n",
       "      <th>0</th>\n",
       "      <td>0.811765</td>\n",
       "      <td>0.766667</td>\n",
       "      <td>0.71875</td>\n",
       "    </tr>\n",
       "    <tr>\n",
       "      <th>1</th>\n",
       "      <td>0.811765</td>\n",
       "      <td>0.833333</td>\n",
       "      <td>0.62500</td>\n",
       "    </tr>\n",
       "    <tr>\n",
       "      <th>2</th>\n",
       "      <td>0.847059</td>\n",
       "      <td>0.880000</td>\n",
       "      <td>0.68750</td>\n",
       "    </tr>\n",
       "    <tr>\n",
       "      <th>3</th>\n",
       "      <td>0.905882</td>\n",
       "      <td>0.875000</td>\n",
       "      <td>0.87500</td>\n",
       "    </tr>\n",
       "    <tr>\n",
       "      <th>4</th>\n",
       "      <td>0.835294</td>\n",
       "      <td>0.846154</td>\n",
       "      <td>0.68750</td>\n",
       "    </tr>\n",
       "    <tr>\n",
       "      <th>5</th>\n",
       "      <td>0.870588</td>\n",
       "      <td>0.862069</td>\n",
       "      <td>0.78125</td>\n",
       "    </tr>\n",
       "    <tr>\n",
       "      <th>6</th>\n",
       "      <td>0.917647</td>\n",
       "      <td>0.903226</td>\n",
       "      <td>0.87500</td>\n",
       "    </tr>\n",
       "    <tr>\n",
       "      <th>7</th>\n",
       "      <td>0.811765</td>\n",
       "      <td>0.807692</td>\n",
       "      <td>0.65625</td>\n",
       "    </tr>\n",
       "    <tr>\n",
       "      <th>8</th>\n",
       "      <td>0.847059</td>\n",
       "      <td>0.851852</td>\n",
       "      <td>0.71875</td>\n",
       "    </tr>\n",
       "    <tr>\n",
       "      <th>9</th>\n",
       "      <td>0.811765</td>\n",
       "      <td>0.785714</td>\n",
       "      <td>0.68750</td>\n",
       "    </tr>\n",
       "  </tbody>\n",
       "</table>\n",
       "</div>"
      ],
      "text/plain": [
       "   Accuracy  Precision   Recall\n",
       "0  0.811765   0.766667  0.71875\n",
       "1  0.811765   0.833333  0.62500\n",
       "2  0.847059   0.880000  0.68750\n",
       "3  0.905882   0.875000  0.87500\n",
       "4  0.835294   0.846154  0.68750\n",
       "5  0.870588   0.862069  0.78125\n",
       "6  0.917647   0.903226  0.87500\n",
       "7  0.811765   0.807692  0.65625\n",
       "8  0.847059   0.851852  0.71875\n",
       "9  0.811765   0.785714  0.68750"
      ]
     },
     "execution_count": 35,
     "metadata": {},
     "output_type": "execute_result"
    }
   ],
   "source": [
    "from sklearn.ensemble import RandomForestClassifier\n",
    "from sklearn.metrics import precision_score, accuracy_score, confusion_matrix, recall_score, f1_score\n",
    "\n",
    "# Generate a 60/40 training/test split of data\n",
    "X_train, X_test, y_train, y_test = train_test_split(X_class, Y_class, test_size=0.2, random_state=0)\n",
    "\n",
    "# Generate & train instance of RandomForest classifier\n",
    "rf = RandomForestClassifier(random_state=42)\n",
    "rf.fit(X_train, y_train)\n",
    "\n",
    "EvaluateClassifierEstimator(rf, X_class, Y_class, cv_class)"
   ]
  },
  {
   "cell_type": "markdown",
   "metadata": {},
   "source": [
    "As we can see, the average precision for our cross validated models is .84, respectable but not as good as the logistic regression or knn examples above. Another great evaluation of the model is to use it on data it has never seen before. We'll do that by calculating the relevant statistics for our predictions on the hold out 20% of data."
   ]
  },
  {
   "cell_type": "code",
   "execution_count": 36,
   "metadata": {},
   "outputs": [
    {
     "name": "stdout",
     "output_type": "stream",
     "text": [
      "Precision: 0.93\n",
      "Accuracy: 0.89\n",
      "Recall: 0.79\n"
     ]
    },
    {
     "data": {
      "image/png": "[encoded data removed]",
      "text/plain": [
       "<Figure size 792x432 with 2 Axes>"
      ]
     },
     "metadata": {},
     "output_type": "display_data"
    }
   ],
   "source": [
    "# Print classification metrics & confusion matrix (normalized & non)\n",
    "print(\"Precision: %0.2f\" % precision_score(y_test, rf.predict(X_test)))\n",
    "print(\"Accuracy: %0.2f\" % accuracy_score(y_test, rf.predict(X_test)))\n",
    "print(\"Recall: %0.2f\" % recall_score(y_test, rf.predict(X_test)))\n",
    "\n",
    "rf_precision = precision_score(y_test, rf.predict(X_test))\n",
    "rf_recall = recall_score(y_test, rf.predict(X_test))\n",
    "rf_accuracy = accuracy_score(y_test, rf.predict(X_test))\n",
    "\n",
    "# Calc and plot confusion matrices\n",
    "cm = confusion_matrix(y_test, rf.predict(X_test))\n",
    "plt.figure(figsize = (11, 6))\n",
    "plt.subplot(1, 2, 1)\n",
    "plot_confusion_matrix(cm, ['Non-Outperform', 'Outperform'])\n",
    "plt.title(\"Non-Normalized Confusion Matrix\")\n",
    "plt.subplot(1, 2, 2)\n",
    "plot_confusion_matrix(cm, ['Non-Outperform', 'Outperform'], normalize=True)\n",
    "plt.title(\"Normalized Confusion Matrix\")\n",
    "plt.ylabel(\"\")\n",
    "plt.show()"
   ]
  },
  {
   "cell_type": "markdown",
   "metadata": {},
   "source": [
    "When we apply the random forest model to a set of records it has never seen before, we get a .93 precision, the highest so far.  Random forest is a very popular algorithm because it tends to produce pretty high quality results, even without hyperparameter tuning. As we can see in the top row of the confusion matrix, out of the 51 non-outperforming schools, we correctly identified 96% of them. This statistic, the percentage of correctly identified negative results is called the **specificity**.\n",
    "\n",
    "\n",
    "## Regression Tasks\n",
    "We look at three different regression tasks for this project:\n",
    "\n",
    "* Ordinary Least Squares (OLS)\n",
    "* Least Absolute Shrinkage and Selection Operation (LASSO)\n",
    "* Huber Regression"
   ]
  },
  {
   "cell_type": "markdown",
   "metadata": {},
   "source": [
    "### Ordinary Least Squares (OLS)\n",
    "\n",
    "Oridinary Least Squares (OLS) Regression is the standard form of regression well known to students, academics, and industry professionals alike. While it isn't cutting edge, it's a powerful technique used by a huge number of statisticians and data scientists, and always a great place to start a regression analysis. In OLS regression we attempt to estimate the parameters in a linear model by minimizing the sum of squared residuals."
   ]
  },
  {
   "cell_type": "code",
   "execution_count": 37,
   "metadata": {},
   "outputs": [
    {
     "name": "stdout",
     "output_type": "stream",
     "text": [
      "The average MAE for all cv folds is: \t\t\t 2.8024\n",
      "The average MAE percentage (MAPE) for all cv folds is: \t 2.8316\n",
      "The average RMSE for all cv folds is: \t\t\t 4.7467\n",
      "*********************************************************\n",
      "Cross Validation Fold Mean Error Scores\n"
     ]
    },
    {
     "data": {
      "text/html": [
       "<div>\n",
       "<style scoped>\n",
       "    .dataframe tbody tr th:only-of-type {\n",
       "        vertical-align: middle;\n",
       "    }\n",
       "\n",
       "    .dataframe tbody tr th {\n",
       "        vertical-align: top;\n",
       "    }\n",
       "\n",
       "    .dataframe thead th {\n",
       "        text-align: right;\n",
       "    }\n",
       "</style>\n",
       "<table border=\"1\" class=\"dataframe\">\n",
       "  <thead>\n",
       "    <tr style=\"text-align: right;\">\n",
       "      <th></th>\n",
       "      <th>MAE</th>\n",
       "      <th>MAPE</th>\n",
       "      <th>RMSE</th>\n",
       "    </tr>\n",
       "  </thead>\n",
       "  <tbody>\n",
       "    <tr>\n",
       "      <th>0</th>\n",
       "      <td>2.206342</td>\n",
       "      <td>2.220541</td>\n",
       "      <td>3.681640</td>\n",
       "    </tr>\n",
       "    <tr>\n",
       "      <th>1</th>\n",
       "      <td>3.511699</td>\n",
       "      <td>3.560372</td>\n",
       "      <td>6.694224</td>\n",
       "    </tr>\n",
       "    <tr>\n",
       "      <th>2</th>\n",
       "      <td>2.939006</td>\n",
       "      <td>3.139453</td>\n",
       "      <td>4.442515</td>\n",
       "    </tr>\n",
       "    <tr>\n",
       "      <th>3</th>\n",
       "      <td>2.646958</td>\n",
       "      <td>2.554822</td>\n",
       "      <td>4.121879</td>\n",
       "    </tr>\n",
       "    <tr>\n",
       "      <th>4</th>\n",
       "      <td>2.517112</td>\n",
       "      <td>2.342169</td>\n",
       "      <td>4.340715</td>\n",
       "    </tr>\n",
       "    <tr>\n",
       "      <th>5</th>\n",
       "      <td>2.289002</td>\n",
       "      <td>2.215621</td>\n",
       "      <td>3.716465</td>\n",
       "    </tr>\n",
       "    <tr>\n",
       "      <th>6</th>\n",
       "      <td>3.103500</td>\n",
       "      <td>3.131867</td>\n",
       "      <td>5.110999</td>\n",
       "    </tr>\n",
       "    <tr>\n",
       "      <th>7</th>\n",
       "      <td>3.180174</td>\n",
       "      <td>3.199554</td>\n",
       "      <td>5.505003</td>\n",
       "    </tr>\n",
       "    <tr>\n",
       "      <th>8</th>\n",
       "      <td>2.522555</td>\n",
       "      <td>2.644128</td>\n",
       "      <td>4.547161</td>\n",
       "    </tr>\n",
       "    <tr>\n",
       "      <th>9</th>\n",
       "      <td>3.107359</td>\n",
       "      <td>3.307258</td>\n",
       "      <td>5.306406</td>\n",
       "    </tr>\n",
       "  </tbody>\n",
       "</table>\n",
       "</div>"
      ],
      "text/plain": [
       "        MAE      MAPE      RMSE\n",
       "0  2.206342  2.220541  3.681640\n",
       "1  3.511699  3.560372  6.694224\n",
       "2  2.939006  3.139453  4.442515\n",
       "3  2.646958  2.554822  4.121879\n",
       "4  2.517112  2.342169  4.340715\n",
       "5  2.289002  2.215621  3.716465\n",
       "6  3.103500  3.131867  5.110999\n",
       "7  3.180174  3.199554  5.505003\n",
       "8  2.522555  2.644128  4.547161\n",
       "9  3.107359  3.307258  5.306406"
      ]
     },
     "execution_count": 37,
     "metadata": {},
     "output_type": "execute_result"
    }
   ],
   "source": [
    "from  sklearn.model_selection  import train_test_split\n",
    "from sklearn import linear_model, preprocessing\n",
    "from sklearn.model_selection import cross_val_score\n",
    "from sklearn.metrics import mean_squared_error, r2_score\n",
    "\n",
    "lr = linear_model.LinearRegression(normalize=True)\n",
    "\n",
    "# Evaluate the regression estimator above using our pre-defined cross validation and scoring metrics.\n",
    "EvaluateRegressionEstimator(lr, X_reg, Y_reg, cv_reg)"
   ]
  },
  {
   "cell_type": "markdown",
   "metadata": {},
   "source": [
    "OLS regression is a very simple method of linear regression, and has many known caveats, which have been addressed by later methods. The average RMSE of 4.75 can be used as a baseline to compare our later regression analyses on.\n",
    "\n",
    "## LASSO Regression\n",
    "Least Absolute Shrinkage and Selection Operator (LASSO) is a method of linear regression that uses shrinkage to reduce the dimensionality to create a more parsimonious model that best describes the relationship to the predicted variable.  LASSO introduces bias to the model as a penalty to the absolute value of the magnitude of the coefficients.  This bias penalty is aimed at reducing the size of the model to create the simplest model possible.  Thus LASSO is typically far easier to interpret than most other regression models."
   ]
  },
  {
   "cell_type": "code",
   "execution_count": null,
   "metadata": {},
   "outputs": [],
   "source": [
    "#Create a regression object and perform a grid search to find the best parameters \n",
    "from sklearn.linear_model import Lasso\n",
    "\n",
    "reg = Lasso(fit_intercept=True, normalize=True,copy_X=True\n",
    "          , max_iter=10000, precompute=True, tol=0.0001, random_state=0)\n",
    "\n",
    "#Test parameters \n",
    "alpha = [0.001, 0.1, 1, 10, 20]\n",
    "selection = ['cyclic','random']\n",
    "warm_start = [True, False]\n",
    "parameters = {'alpha': alpha, 'selection': selection, 'warm_start': warm_start}\n",
    "\n",
    "#Create a grid search object using the parameters above\n",
    "from sklearn.model_selection import GridSearchCV\n",
    "LassoGridSearch = GridSearchCV(estimator=reg\n",
    "                   , n_jobs=4 # jobs to run in parallel\n",
    "                   , verbose=1 # low verbosity\n",
    "                   , param_grid=parameters\n",
    "                   , cv=cv_reg # KFolds = 10\n",
    "                   , scoring=mae_scorer)\n",
    "\n",
    "#Perform hyperparameter search to find the best combination of parameters for our data\n",
    "LassoGridSearch.fit(X_reg, Y_reg)"
   ]
  },
  {
   "cell_type": "code",
   "execution_count": null,
   "metadata": {},
   "outputs": [],
   "source": [
    "#Display the best estimator parameters#Display  \n",
    "LassoGridSearch.best_estimator_"
   ]
  },
  {
   "cell_type": "code",
   "execution_count": null,
   "metadata": {},
   "outputs": [],
   "source": [
    "#Create a regression estimator with best parameters for cross validation\n",
    "LassoregEstimator = LassoGridSearch.best_estimator_\n",
    "\n",
    "#Evaluate the regression estimator above using our pre-defined cross validation and scoring metrics.\n",
    "EvaluateRegressionEstimator(LassoregEstimator, X_reg, Y_reg, cv_reg)"
   ]
  },
  {
   "cell_type": "markdown",
   "metadata": {},
   "source": [
    "## Huber Regression\n",
    "The Huber Regression model was selected as a regression model due to its being robust to outliers. We performed a grid search to determine the optimal epsilon - which measures the robustness to outliers - as well as alpha, the regularization parameter. This yielded 560 possible combinations of models."
   ]
  },
  {
   "cell_type": "code",
   "execution_count": 38,
   "metadata": {},
   "outputs": [
    {
     "name": "stdout",
     "output_type": "stream",
     "text": [
      "Fitting 10 folds for each of 560 candidates, totalling 5600 fits\n"
     ]
    },
    {
     "name": "stderr",
     "output_type": "stream",
     "text": [
      "Process ForkPoolWorker-57:\n",
      "Process ForkPoolWorker-58:\n",
      "Traceback (most recent call last):\n",
      "Traceback (most recent call last):\n",
      "  File \"/Library/Frameworks/Python.framework/Versions/3.6/lib/python3.6/multiprocessing/process.py\", line 258, in _bootstrap\n",
      "    self.run()\n",
      "  File \"/Library/Frameworks/Python.framework/Versions/3.6/lib/python3.6/multiprocessing/process.py\", line 258, in _bootstrap\n",
      "    self.run()\n",
      "  File \"/Library/Frameworks/Python.framework/Versions/3.6/lib/python3.6/multiprocessing/process.py\", line 93, in run\n",
      "    self._target(*self._args, **self._kwargs)\n",
      "  File \"/Library/Frameworks/Python.framework/Versions/3.6/lib/python3.6/multiprocessing/process.py\", line 93, in run\n",
      "    self._target(*self._args, **self._kwargs)\n",
      "  File \"/Library/Frameworks/Python.framework/Versions/3.6/lib/python3.6/multiprocessing/pool.py\", line 108, in worker\n",
      "    task = get()\n",
      "  File \"/Library/Frameworks/Python.framework/Versions/3.6/lib/python3.6/multiprocessing/pool.py\", line 108, in worker\n",
      "    task = get()\n",
      "  File \"/Library/Frameworks/Python.framework/Versions/3.6/lib/python3.6/site-packages/sklearn/externals/joblib/pool.py\", line 360, in get\n",
      "    racquire()\n",
      "  File \"/Library/Frameworks/Python.framework/Versions/3.6/lib/python3.6/site-packages/sklearn/externals/joblib/pool.py\", line 362, in get\n",
      "    return recv()\n",
      "KeyboardInterrupt\n",
      "  File \"/Library/Frameworks/Python.framework/Versions/3.6/lib/python3.6/multiprocessing/connection.py\", line 250, in recv\n",
      "    buf = self._recv_bytes()\n",
      "  File \"/Library/Frameworks/Python.framework/Versions/3.6/lib/python3.6/multiprocessing/connection.py\", line 407, in _recv_bytes\n",
      "    buf = self._recv(4)\n",
      "  File \"/Library/Frameworks/Python.framework/Versions/3.6/lib/python3.6/multiprocessing/connection.py\", line 379, in _recv\n",
      "    chunk = read(handle, remaining)\n",
      "KeyboardInterrupt\n"
     ]
    },
    {
     "ename": "KeyboardInterrupt",
     "evalue": "",
     "output_type": "error",
     "traceback": [
      "\u001b[0;31m---------------------------------------------------------------------------\u001b[0m",
      "\u001b[0;31mKeyboardInterrupt\u001b[0m                         Traceback (most recent call last)",
      "\u001b[0;32m<ipython-input-38-8b226172d7fc>\u001b[0m in \u001b[0;36m<module>\u001b[0;34m()\u001b[0m\n\u001b[1;32m     28\u001b[0m \u001b[0;31m#Perform hyperparameter search to find the best combination of parameters for our data\u001b[0m\u001b[0;34m\u001b[0m\u001b[0;34m\u001b[0m\u001b[0m\n\u001b[1;32m     29\u001b[0m \u001b[0;34m\u001b[0m\u001b[0m\n\u001b[0;32m---> 30\u001b[0;31m \u001b[0mHuberGridSearch\u001b[0m\u001b[0;34m.\u001b[0m\u001b[0mfit\u001b[0m\u001b[0;34m(\u001b[0m\u001b[0mX_reg\u001b[0m\u001b[0;34m,\u001b[0m \u001b[0mY_reg\u001b[0m\u001b[0;34m)\u001b[0m\u001b[0;34m\u001b[0m\u001b[0m\n\u001b[0m",
      "\u001b[0;32m/Library/Frameworks/Python.framework/Versions/3.6/lib/python3.6/site-packages/sklearn/model_selection/_search.py\u001b[0m in \u001b[0;36mfit\u001b[0;34m(self, X, y, groups, **fit_params)\u001b[0m\n\u001b[1;32m    637\u001b[0m                                   error_score=self.error_score)\n\u001b[1;32m    638\u001b[0m           for parameters, (train, test) in product(candidate_params,\n\u001b[0;32m--> 639\u001b[0;31m                                                    cv.split(X, y, groups)))\n\u001b[0m\u001b[1;32m    640\u001b[0m \u001b[0;34m\u001b[0m\u001b[0m\n\u001b[1;32m    641\u001b[0m         \u001b[0;31m# if one choose to see train score, \"out\" will contain train score info\u001b[0m\u001b[0;34m\u001b[0m\u001b[0;34m\u001b[0m\u001b[0m\n",
      "\u001b[0;32m/Library/Frameworks/Python.framework/Versions/3.6/lib/python3.6/site-packages/sklearn/externals/joblib/parallel.py\u001b[0m in \u001b[0;36m__call__\u001b[0;34m(self, iterable)\u001b[0m\n\u001b[1;32m    787\u001b[0m                 \u001b[0;31m# consumption.\u001b[0m\u001b[0;34m\u001b[0m\u001b[0;34m\u001b[0m\u001b[0m\n\u001b[1;32m    788\u001b[0m                 \u001b[0mself\u001b[0m\u001b[0;34m.\u001b[0m\u001b[0m_iterating\u001b[0m \u001b[0;34m=\u001b[0m \u001b[0;32mFalse\u001b[0m\u001b[0;34m\u001b[0m\u001b[0m\n\u001b[0;32m--> 789\u001b[0;31m             \u001b[0mself\u001b[0m\u001b[0;34m.\u001b[0m\u001b[0mretrieve\u001b[0m\u001b[0;34m(\u001b[0m\u001b[0;34m)\u001b[0m\u001b[0;34m\u001b[0m\u001b[0m\n\u001b[0m\u001b[1;32m    790\u001b[0m             \u001b[0;31m# Make sure that we get a last message telling us we are done\u001b[0m\u001b[0;34m\u001b[0m\u001b[0;34m\u001b[0m\u001b[0m\n\u001b[1;32m    791\u001b[0m             \u001b[0melapsed_time\u001b[0m \u001b[0;34m=\u001b[0m \u001b[0mtime\u001b[0m\u001b[0;34m.\u001b[0m\u001b[0mtime\u001b[0m\u001b[0;34m(\u001b[0m\u001b[0;34m)\u001b[0m \u001b[0;34m-\u001b[0m \u001b[0mself\u001b[0m\u001b[0;34m.\u001b[0m\u001b[0m_start_time\u001b[0m\u001b[0;34m\u001b[0m\u001b[0m\n",
      "\u001b[0;32m/Library/Frameworks/Python.framework/Versions/3.6/lib/python3.6/site-packages/sklearn/externals/joblib/parallel.py\u001b[0m in \u001b[0;36mretrieve\u001b[0;34m(self)\u001b[0m\n\u001b[1;32m    697\u001b[0m             \u001b[0;32mtry\u001b[0m\u001b[0;34m:\u001b[0m\u001b[0;34m\u001b[0m\u001b[0m\n\u001b[1;32m    698\u001b[0m                 \u001b[0;32mif\u001b[0m \u001b[0mgetattr\u001b[0m\u001b[0;34m(\u001b[0m\u001b[0mself\u001b[0m\u001b[0;34m.\u001b[0m\u001b[0m_backend\u001b[0m\u001b[0;34m,\u001b[0m \u001b[0;34m'supports_timeout'\u001b[0m\u001b[0;34m,\u001b[0m \u001b[0;32mFalse\u001b[0m\u001b[0;34m)\u001b[0m\u001b[0;34m:\u001b[0m\u001b[0;34m\u001b[0m\u001b[0m\n\u001b[0;32m--> 699\u001b[0;31m                     \u001b[0mself\u001b[0m\u001b[0;34m.\u001b[0m\u001b[0m_output\u001b[0m\u001b[0;34m.\u001b[0m\u001b[0mextend\u001b[0m\u001b[0;34m(\u001b[0m\u001b[0mjob\u001b[0m\u001b[0;34m.\u001b[0m\u001b[0mget\u001b[0m\u001b[0;34m(\u001b[0m\u001b[0mtimeout\u001b[0m\u001b[0;34m=\u001b[0m\u001b[0mself\u001b[0m\u001b[0;34m.\u001b[0m\u001b[0mtimeout\u001b[0m\u001b[0;34m)\u001b[0m\u001b[0;34m)\u001b[0m\u001b[0;34m\u001b[0m\u001b[0m\n\u001b[0m\u001b[1;32m    700\u001b[0m                 \u001b[0;32melse\u001b[0m\u001b[0;34m:\u001b[0m\u001b[0;34m\u001b[0m\u001b[0m\n\u001b[1;32m    701\u001b[0m                     \u001b[0mself\u001b[0m\u001b[0;34m.\u001b[0m\u001b[0m_output\u001b[0m\u001b[0;34m.\u001b[0m\u001b[0mextend\u001b[0m\u001b[0;34m(\u001b[0m\u001b[0mjob\u001b[0m\u001b[0;34m.\u001b[0m\u001b[0mget\u001b[0m\u001b[0;34m(\u001b[0m\u001b[0;34m)\u001b[0m\u001b[0;34m)\u001b[0m\u001b[0;34m\u001b[0m\u001b[0m\n",
      "\u001b[0;32m/Library/Frameworks/Python.framework/Versions/3.6/lib/python3.6/multiprocessing/pool.py\u001b[0m in \u001b[0;36mget\u001b[0;34m(self, timeout)\u001b[0m\n\u001b[1;32m    636\u001b[0m \u001b[0;34m\u001b[0m\u001b[0m\n\u001b[1;32m    637\u001b[0m     \u001b[0;32mdef\u001b[0m \u001b[0mget\u001b[0m\u001b[0;34m(\u001b[0m\u001b[0mself\u001b[0m\u001b[0;34m,\u001b[0m \u001b[0mtimeout\u001b[0m\u001b[0;34m=\u001b[0m\u001b[0;32mNone\u001b[0m\u001b[0;34m)\u001b[0m\u001b[0;34m:\u001b[0m\u001b[0;34m\u001b[0m\u001b[0m\n\u001b[0;32m--> 638\u001b[0;31m         \u001b[0mself\u001b[0m\u001b[0;34m.\u001b[0m\u001b[0mwait\u001b[0m\u001b[0;34m(\u001b[0m\u001b[0mtimeout\u001b[0m\u001b[0;34m)\u001b[0m\u001b[0;34m\u001b[0m\u001b[0m\n\u001b[0m\u001b[1;32m    639\u001b[0m         \u001b[0;32mif\u001b[0m \u001b[0;32mnot\u001b[0m \u001b[0mself\u001b[0m\u001b[0;34m.\u001b[0m\u001b[0mready\u001b[0m\u001b[0;34m(\u001b[0m\u001b[0;34m)\u001b[0m\u001b[0;34m:\u001b[0m\u001b[0;34m\u001b[0m\u001b[0m\n\u001b[1;32m    640\u001b[0m             \u001b[0;32mraise\u001b[0m \u001b[0mTimeoutError\u001b[0m\u001b[0;34m\u001b[0m\u001b[0m\n",
      "\u001b[0;32m/Library/Frameworks/Python.framework/Versions/3.6/lib/python3.6/multiprocessing/pool.py\u001b[0m in \u001b[0;36mwait\u001b[0;34m(self, timeout)\u001b[0m\n\u001b[1;32m    633\u001b[0m \u001b[0;34m\u001b[0m\u001b[0m\n\u001b[1;32m    634\u001b[0m     \u001b[0;32mdef\u001b[0m \u001b[0mwait\u001b[0m\u001b[0;34m(\u001b[0m\u001b[0mself\u001b[0m\u001b[0;34m,\u001b[0m \u001b[0mtimeout\u001b[0m\u001b[0;34m=\u001b[0m\u001b[0;32mNone\u001b[0m\u001b[0;34m)\u001b[0m\u001b[0;34m:\u001b[0m\u001b[0;34m\u001b[0m\u001b[0m\n\u001b[0;32m--> 635\u001b[0;31m         \u001b[0mself\u001b[0m\u001b[0;34m.\u001b[0m\u001b[0m_event\u001b[0m\u001b[0;34m.\u001b[0m\u001b[0mwait\u001b[0m\u001b[0;34m(\u001b[0m\u001b[0mtimeout\u001b[0m\u001b[0;34m)\u001b[0m\u001b[0;34m\u001b[0m\u001b[0m\n\u001b[0m\u001b[1;32m    636\u001b[0m \u001b[0;34m\u001b[0m\u001b[0m\n\u001b[1;32m    637\u001b[0m     \u001b[0;32mdef\u001b[0m \u001b[0mget\u001b[0m\u001b[0;34m(\u001b[0m\u001b[0mself\u001b[0m\u001b[0;34m,\u001b[0m \u001b[0mtimeout\u001b[0m\u001b[0;34m=\u001b[0m\u001b[0;32mNone\u001b[0m\u001b[0;34m)\u001b[0m\u001b[0;34m:\u001b[0m\u001b[0;34m\u001b[0m\u001b[0m\n",
      "\u001b[0;32m/Library/Frameworks/Python.framework/Versions/3.6/lib/python3.6/threading.py\u001b[0m in \u001b[0;36mwait\u001b[0;34m(self, timeout)\u001b[0m\n\u001b[1;32m    549\u001b[0m             \u001b[0msignaled\u001b[0m \u001b[0;34m=\u001b[0m \u001b[0mself\u001b[0m\u001b[0;34m.\u001b[0m\u001b[0m_flag\u001b[0m\u001b[0;34m\u001b[0m\u001b[0m\n\u001b[1;32m    550\u001b[0m             \u001b[0;32mif\u001b[0m \u001b[0;32mnot\u001b[0m \u001b[0msignaled\u001b[0m\u001b[0;34m:\u001b[0m\u001b[0;34m\u001b[0m\u001b[0m\n\u001b[0;32m--> 551\u001b[0;31m                 \u001b[0msignaled\u001b[0m \u001b[0;34m=\u001b[0m \u001b[0mself\u001b[0m\u001b[0;34m.\u001b[0m\u001b[0m_cond\u001b[0m\u001b[0;34m.\u001b[0m\u001b[0mwait\u001b[0m\u001b[0;34m(\u001b[0m\u001b[0mtimeout\u001b[0m\u001b[0;34m)\u001b[0m\u001b[0;34m\u001b[0m\u001b[0m\n\u001b[0m\u001b[1;32m    552\u001b[0m             \u001b[0;32mreturn\u001b[0m \u001b[0msignaled\u001b[0m\u001b[0;34m\u001b[0m\u001b[0m\n\u001b[1;32m    553\u001b[0m \u001b[0;34m\u001b[0m\u001b[0m\n",
      "\u001b[0;32m/Library/Frameworks/Python.framework/Versions/3.6/lib/python3.6/threading.py\u001b[0m in \u001b[0;36mwait\u001b[0;34m(self, timeout)\u001b[0m\n\u001b[1;32m    293\u001b[0m         \u001b[0;32mtry\u001b[0m\u001b[0;34m:\u001b[0m    \u001b[0;31m# restore state no matter what (e.g., KeyboardInterrupt)\u001b[0m\u001b[0;34m\u001b[0m\u001b[0m\n\u001b[1;32m    294\u001b[0m             \u001b[0;32mif\u001b[0m \u001b[0mtimeout\u001b[0m \u001b[0;32mis\u001b[0m \u001b[0;32mNone\u001b[0m\u001b[0;34m:\u001b[0m\u001b[0;34m\u001b[0m\u001b[0m\n\u001b[0;32m--> 295\u001b[0;31m                 \u001b[0mwaiter\u001b[0m\u001b[0;34m.\u001b[0m\u001b[0macquire\u001b[0m\u001b[0;34m(\u001b[0m\u001b[0;34m)\u001b[0m\u001b[0;34m\u001b[0m\u001b[0m\n\u001b[0m\u001b[1;32m    296\u001b[0m                 \u001b[0mgotit\u001b[0m \u001b[0;34m=\u001b[0m \u001b[0;32mTrue\u001b[0m\u001b[0;34m\u001b[0m\u001b[0m\n\u001b[1;32m    297\u001b[0m             \u001b[0;32melse\u001b[0m\u001b[0;34m:\u001b[0m\u001b[0;34m\u001b[0m\u001b[0m\n",
      "\u001b[0;31mKeyboardInterrupt\u001b[0m: "
     ]
    }
   ],
   "source": [
    "#Create a regression object and perform a grid search to find the best parameters\n",
    "from sklearn.linear_model import HuberRegressor \n",
    "from sklearn.feature_selection import SelectKBest\n",
    "from sklearn.feature_selection import chi2\n",
    "from sklearn.pipeline import Pipeline\n",
    "\n",
    "reg = HuberRegressor(epsilon=1.50,fit_intercept=True, alpha=0.001, max_iter=100)\n",
    "# top_feat = SelectKBest(score_func=chi2, k=75)\n",
    "\n",
    "# pipe = Pipeline([('feature', top_feat), ('huber',reg)])\n",
    "\n",
    "#Test parameters \n",
    "epsilon_range = np.arange(1.0, 2.0, 0.05)\n",
    "alpha_options = [0.0000001, 0.000001, 0.00001, 0.0001, 0.001, 0.05, 0.01]\n",
    "warm_start = [True, False]\n",
    "fit_intercept = [True, False]\n",
    "parameters = {'epsilon': epsilon_range, 'alpha': alpha_options, 'warm_start': warm_start, 'fit_intercept': fit_intercept}\n",
    "\n",
    "#Create a grid search object using the parameters above\n",
    "from sklearn.model_selection import GridSearchCV\n",
    "HuberGridSearch = GridSearchCV(estimator=reg\n",
    "                   , n_jobs=2 # jobs to run in parallel\n",
    "                   , verbose=1 # low verbosity\n",
    "                   , param_grid=parameters\n",
    "                   , cv=cv_reg # KFolds = 10\n",
    "                   , scoring=mae_scorer)\n",
    "\n",
    "#Perform hyperparameter search to find the best combination of parameters for our data\n",
    "\n",
    "HuberGridSearch.fit(X_reg, Y_reg)"
   ]
  },
  {
   "cell_type": "code",
   "execution_count": 31,
   "metadata": {},
   "outputs": [
    {
     "data": {
      "text/plain": [
       "HuberRegressor(alpha=0.05, epsilon=1.9000000000000008, fit_intercept=False,\n",
       "        max_iter=100, tol=1e-05, warm_start=True)"
      ]
     },
     "execution_count": 31,
     "metadata": {},
     "output_type": "execute_result"
    }
   ],
   "source": [
    "#Display the best estimator parameters\n",
    "HuberGridSearch.best_estimator_"
   ]
  },
  {
   "cell_type": "code",
   "execution_count": 32,
   "metadata": {},
   "outputs": [
    {
     "name": "stdout",
     "output_type": "stream",
     "text": [
      "The average MAE for all cv folds is: \t\t\t 6.7332\n",
      "The average MAE percentage (MAPE) for all cv folds is: \t 6.379\n",
      "The average RMSE for all cv folds is: \t\t\t 12.086\n",
      "*********************************************************\n",
      "Cross Validation Fold Mean Error Scores\n"
     ]
    },
    {
     "data": {
      "text/html": [
       "<div>\n",
       "<style scoped>\n",
       "    .dataframe tbody tr th:only-of-type {\n",
       "        vertical-align: middle;\n",
       "    }\n",
       "\n",
       "    .dataframe tbody tr th {\n",
       "        vertical-align: top;\n",
       "    }\n",
       "\n",
       "    .dataframe thead th {\n",
       "        text-align: right;\n",
       "    }\n",
       "</style>\n",
       "<table border=\"1\" class=\"dataframe\">\n",
       "  <thead>\n",
       "    <tr style=\"text-align: right;\">\n",
       "      <th></th>\n",
       "      <th>MAE</th>\n",
       "      <th>MAPE</th>\n",
       "      <th>RMSE</th>\n",
       "    </tr>\n",
       "  </thead>\n",
       "  <tbody>\n",
       "    <tr>\n",
       "      <th>0</th>\n",
       "      <td>7.207059</td>\n",
       "      <td>6.533801</td>\n",
       "      <td>13.445778</td>\n",
       "    </tr>\n",
       "    <tr>\n",
       "      <th>1</th>\n",
       "      <td>6.864356</td>\n",
       "      <td>6.576511</td>\n",
       "      <td>12.737812</td>\n",
       "    </tr>\n",
       "    <tr>\n",
       "      <th>2</th>\n",
       "      <td>6.402806</td>\n",
       "      <td>6.600874</td>\n",
       "      <td>10.310756</td>\n",
       "    </tr>\n",
       "    <tr>\n",
       "      <th>3</th>\n",
       "      <td>7.355837</td>\n",
       "      <td>6.660856</td>\n",
       "      <td>13.292888</td>\n",
       "    </tr>\n",
       "    <tr>\n",
       "      <th>4</th>\n",
       "      <td>7.404944</td>\n",
       "      <td>6.644391</td>\n",
       "      <td>14.352779</td>\n",
       "    </tr>\n",
       "    <tr>\n",
       "      <th>5</th>\n",
       "      <td>6.085067</td>\n",
       "      <td>5.386153</td>\n",
       "      <td>11.906259</td>\n",
       "    </tr>\n",
       "    <tr>\n",
       "      <th>6</th>\n",
       "      <td>6.014118</td>\n",
       "      <td>6.297595</td>\n",
       "      <td>9.230502</td>\n",
       "    </tr>\n",
       "    <tr>\n",
       "      <th>7</th>\n",
       "      <td>7.622230</td>\n",
       "      <td>6.868554</td>\n",
       "      <td>14.106941</td>\n",
       "    </tr>\n",
       "    <tr>\n",
       "      <th>8</th>\n",
       "      <td>6.416503</td>\n",
       "      <td>6.037579</td>\n",
       "      <td>11.745375</td>\n",
       "    </tr>\n",
       "    <tr>\n",
       "      <th>9</th>\n",
       "      <td>5.959206</td>\n",
       "      <td>6.183579</td>\n",
       "      <td>9.735045</td>\n",
       "    </tr>\n",
       "  </tbody>\n",
       "</table>\n",
       "</div>"
      ],
      "text/plain": [
       "        MAE      MAPE       RMSE\n",
       "0  7.207059  6.533801  13.445778\n",
       "1  6.864356  6.576511  12.737812\n",
       "2  6.402806  6.600874  10.310756\n",
       "3  7.355837  6.660856  13.292888\n",
       "4  7.404944  6.644391  14.352779\n",
       "5  6.085067  5.386153  11.906259\n",
       "6  6.014118  6.297595   9.230502\n",
       "7  7.622230  6.868554  14.106941\n",
       "8  6.416503  6.037579  11.745375\n",
       "9  5.959206  6.183579   9.735045"
      ]
     },
     "execution_count": 32,
     "metadata": {},
     "output_type": "execute_result"
    }
   ],
   "source": [
    "#Create a regression estimator with best parameters for cross validation\n",
    "HuberregEstimator = HuberGridSearch.best_estimator_\n",
    "\n",
    "#Evaluate the regression estimator above using our pre-defined cross validation and scoring metrics.\n",
    "EvaluateRegressionEstimator(HuberregEstimator, X_reg, Y_reg, cv_reg)"
   ]
  },
  {
   "cell_type": "markdown",
   "metadata": {},
   "source": [
    "# 6. Data and Evaluation 4\n",
    "## Results - Classification\n",
    "\n"
   ]
  },
  {
   "cell_type": "markdown",
   "metadata": {},
   "source": [
    "# 7. Data and Evaluation 5\n",
    "## Advantages and Disadvantages\n",
    "\n",
    "The below table provides the advantages and disadvantages of the various classification and regression techniques used throughout this analysis.\n",
    "\n",
    "</center><img src = 'proscons.png'></center>"
   ]
  },
  {
   "cell_type": "markdown",
   "metadata": {},
   "source": [
    "# 8. Data and Evaluation 6\n",
    "## Most Important Attributes"
   ]
  },
  {
   "cell_type": "markdown",
   "metadata": {},
   "source": [
    "### Huber Regression\n",
    "\n",
    "We examined the coefficients of the Huber Regression model to determine which attributes were the most important."
   ]
  },
  {
   "cell_type": "code",
   "execution_count": 33,
   "metadata": {},
   "outputs": [
    {
     "data": {
      "image/png": "[encoded data removed]",
      "text/plain": [
       "<Figure size 576x360 with 1 Axes>"
      ]
     },
     "metadata": {},
     "output_type": "display_data"
    }
   ],
   "source": [
    "import pandas as pd\n",
    "import numpy as np\n",
    "import matplotlib.pyplot as plt\n",
    "import seaborn as sns\n",
    "\n",
    "huber_imps = pd.DataFrame({\"feature\":X_reg.columns})\n",
    "huber_imps['fscore'] = np.transpose(HuberGridSearch.best_estimator_.coef_.ravel())\n",
    "huber_imps['fscore'] = huber_imps['fscore'] / huber_imps['fscore'].max()\n",
    "huber_imps.sort_values('fscore', ascending = False, inplace = True)\n",
    "huber_imps = huber_imps[0:10]\n",
    "huber_imps.sort_values('fscore', ascending = True, inplace = True)\n",
    "huber_imps.plot(kind='barh', x='feature', y='fscore', legend=False, figsize=(8, 5))\n",
    "plt.title('Huber Regression Feature Importance', fontsize = 16)\n",
    "plt.xlabel('')\n",
    "plt.ylabel('')\n",
    "plt.xticks([], [])\n",
    "plt.yticks(fontsize=13)\n",
    "plt.show()"
   ]
  },
  {
   "cell_type": "markdown",
   "metadata": {},
   "source": [
    "When examining the ten most important features of the Huber Regression model, we can see from the top four features that graduation rate is influenced largely simply by the number of students at the school compared to the district (lea) and state level. This follows logically, as a school's relative student population size will be a contributing factor to the percentage of that population which graduates. Five of the six remaining features in the top 10 are derived from end of course scores or ACT score-related attributes, as positive results in these academic areas should be reflected by a stable or increasing graduation rate. Lastly, the fifth-most important feature is *Number_Industry_Recognized_Crede*. This is the industry-recognized credentials earned by students, which is also an identifier of academic success and therefore logically translates to graduation rate."
   ]
  },
  {
   "cell_type": "markdown",
   "metadata": {},
   "source": [
    "### K-Nearest Neighbors\n",
    "\n",
    "Feature importance cannot be as easily ascertained for K-Neighbors classifiers. These classifiers compute distance and look to nearby points to determine class label. Our research indicated that utilizing alternative methods, such as simulated annealing, might be able to yield useful insight in this regard, but with the computational expense being greater than the benefit of the obtained information. See the following R-bloggers article for a lengthier explanation and a demonstration of this in R: https://www.r-bloggers.com/simulated-annealing-feature-selection/\n",
    "\n",
    "### Random Forests\n",
    "\n",
    "Random Forests are most predictive, not descriptive. You cannot interpret a random forest the way you do a regression model and understand the relationship between each covariate and the target variable. That being said, you can extract relative feature importance to gain insight into what features drive predictions. Below we will do that for out earlier random forest."
   ]
  },
  {
   "cell_type": "code",
   "execution_count": 39,
   "metadata": {},
   "outputs": [
    {
     "data": {
      "image/png": "[encoded data removed]",
      "text/plain": [
       "<Figure size 576x360 with 1 Axes>"
      ]
     },
     "metadata": {},
     "output_type": "display_data"
    }
   ],
   "source": [
    "var_imps = pd.DataFrame(X_class.columns, columns = ['feature'])\n",
    "var_imps['fscore'] = rf.feature_importances_[:,]\n",
    "var_imps['fscore'] = var_imps['fscore'] / var_imps['fscore'].max()\n",
    "var_imps.sort_values('fscore', ascending = False, inplace = True)\n",
    "var_imps = var_imps[0:10]\n",
    "var_imps.sort_values('fscore', ascending = True, inplace = True)\n",
    "var_imps.plot(kind='barh', x='feature', y='fscore', legend=False, figsize=(8, 5))\n",
    "plt.title('Random Forest Feature Importance', fontsize = 16)\n",
    "plt.xlabel('')\n",
    "plt.ylabel('')\n",
    "plt.xticks([], [])\n",
    "plt.yticks(fontsize=13)\n",
    "plt.show()"
   ]
  },
  {
   "cell_type": "markdown",
   "metadata": {},
   "source": [
    "In the above plot we can see that the driving features of our model are a handful of other performance measures. EOC scores are the equivalent of final exams (end of course exams) and the ACT is another major national college entrance exam. It isn't too surprising to see all of these variables provide strong clues towards whether or not a school will outperform on the SAT.\n",
    "\n",
    "# 9. Deployment"
   ]
  },
  {
   "cell_type": "markdown",
   "metadata": {},
   "source": [
    "The models evaluated in this project would likely prove useful to policy-makers, non-profits, and businesses seeking to target low-performing schools for aid and services.  The  data used by the model is publicly available, albeit with necessary cleanup and precisely classifies successful SAT schools and predicts graduation rates.  It is likely that these interested parties would also be interested in the prevalence and the specificity.  Prevalence indicates how frequently school's overperforming actually occurs.  Specificity is how frequently the model accurately predicts an underperforming school.  Prevalence could be broke up by school district to see an overall success rate for the distict while specificity can be used to accurately show schools in need of serious help.\n",
    "   \n",
    "This dataset could benefit from additional data that could provide trend analysis and additional context to individual schools and school districts.  The data could be merged with previous years data to allow for trend analysis via a time series.  This could drive predictions about whether a school can sustain the level of academic success expected or aid in detecting schools at risk.  The current dataset focuses entirely on intneral school performance indicators but gives little context about external factors that may affect school performance.  Data on levels of poverty, crime, and economic indicators for the surrounding community of each school or school district could assist policy makers with targeting aid programs intended to help low-income students or where additional security funding is necessary due to high crime.\n",
    "   \n",
    "The model should be updated on an annual basis along with the new data that is generated for the school report cards.  This would allows for new data to be gathered by the state and analyzed and schools to implement changes over the course of an academic year.  Additionally, since the data is only reported on a yearly basis, any model updates generated in the interim would use the same data and likely show similar results to the prior analyses.\n",
    "\n",
    "In order to understand the long-term effectiveness of this model as a tool, we would want to see the schools who are targeted as non-outperforming, and thus receive dollars, increase their average SAT numeric score, and hopefully move from non-outperform to outperform."
   ]
  },
  {
   "cell_type": "markdown",
   "metadata": {},
   "source": [
    "# 10. Exceptional Work\n",
    "\n",
    "## Random Forest Grid Search\n",
    "\n",
    "In the earlier random forest model, we used the default parameters provided by `scikit-learn`, but those are not necessarily optimal. The defaults for the main parameters are as follows: n_estimators=10, criterion=gini, max_features=auto, max_depth=none. Using the default parameters for a powerful algorithm like random forest is the equivalent of buying a 65 inch 4K HDTV, then playing a regular DVD on it, you're going to get great results, but not the best money can buy.\n",
    "\n",
    "While it's good we have \"knobs\" to turn on the algorithm, it can be daunting to come up with the optimal set of parameters. Where to start? One option is grid search. In grid search, you take the cartesian product for a set of possible parameter values, and re-run your model for each set of parameters. One of those sets of parameters will have best results, and that is your result. The downside of this approach is that the number of iterations can grow very quickly as you increase the number of parameters & options in your grid, increasing the computational overhead of the model building. Secondly, this method does not guarantee arriving at a global maximum. With those caveats in mind, let's see if/by how much we can increase our model quality."
   ]
  },
  {
   "cell_type": "code",
   "execution_count": 9,
   "metadata": {},
   "outputs": [],
   "source": [
    "# Define options for various parameters in model\n",
    "param_grid = {\n",
    "    'n_estimators': [5, 25, 100, 150],\n",
    "    'max_depth':    [int(i) for i in range(2,11)],\n",
    "    'max_features': ['auto', 'sqrt', 'log2'],\n",
    "    'criterion':    ['gini', 'entropy'],\n",
    "    'min_samples_leaf': [2, 4, 6, 8, 10]\n",
    "}\n",
    "\n",
    "# Generate & fit RandomForest with grid search per the above\n",
    "from sklearn.model_selection import GridSearchCV\n",
    "\n",
    "rfgc = RandomForestClassifier(random_state=42)\n",
    "\n",
    "grid_rf = GridSearchCV(rfgc, param_grid, cv=10, scoring=\"precision\")\n",
    "\n",
    "# Careful with the below line of code, it can take a long time to run. It has been commented\n",
    "# out to prevent accidental running\n",
    "\n",
    "# grid_rf.fit(X_train, y_train)"
   ]
  },
  {
   "cell_type": "code",
   "execution_count": 10,
   "metadata": {},
   "outputs": [
    {
     "ename": "AttributeError",
     "evalue": "'GridSearchCV' object has no attribute 'best_params_'",
     "output_type": "error",
     "traceback": [
      "\u001b[0;31m---------------------------------------------------------------------------\u001b[0m",
      "\u001b[0;31mAttributeError\u001b[0m                            Traceback (most recent call last)",
      "\u001b[0;32m<ipython-input-10-cca43210f3e3>\u001b[0m in \u001b[0;36m<module>\u001b[0;34m()\u001b[0m\n\u001b[0;32m----> 1\u001b[0;31m \u001b[0mprint\u001b[0m\u001b[0;34m(\u001b[0m\u001b[0;34m\"\\n\\n Parameters from best model:\\n\"\u001b[0m\u001b[0;34m,\u001b[0m \u001b[0mgrid_rf\u001b[0m\u001b[0;34m.\u001b[0m\u001b[0mbest_params_\u001b[0m\u001b[0;34m)\u001b[0m\u001b[0;34m\u001b[0m\u001b[0m\n\u001b[0m\u001b[1;32m      2\u001b[0m \u001b[0mprint\u001b[0m\u001b[0;34m(\u001b[0m\u001b[0;34m\"\\nPrecision: %0.2f\"\u001b[0m \u001b[0;34m%\u001b[0m \u001b[0mprecision_score\u001b[0m\u001b[0;34m(\u001b[0m\u001b[0my_test\u001b[0m\u001b[0;34m,\u001b[0m \u001b[0mgrid_rf\u001b[0m\u001b[0;34m.\u001b[0m\u001b[0mpredict\u001b[0m\u001b[0;34m(\u001b[0m\u001b[0mX_test\u001b[0m\u001b[0;34m)\u001b[0m\u001b[0;34m)\u001b[0m\u001b[0;34m)\u001b[0m\u001b[0;34m\u001b[0m\u001b[0m\n\u001b[1;32m      3\u001b[0m \u001b[0mprint\u001b[0m\u001b[0;34m(\u001b[0m\u001b[0;34m\"Accuracy: %0.2f\"\u001b[0m \u001b[0;34m%\u001b[0m \u001b[0maccuracy_score\u001b[0m\u001b[0;34m(\u001b[0m\u001b[0my_test\u001b[0m\u001b[0;34m,\u001b[0m \u001b[0mgrid_rf\u001b[0m\u001b[0;34m.\u001b[0m\u001b[0mpredict\u001b[0m\u001b[0;34m(\u001b[0m\u001b[0mX_test\u001b[0m\u001b[0;34m)\u001b[0m\u001b[0;34m)\u001b[0m\u001b[0;34m)\u001b[0m\u001b[0;34m\u001b[0m\u001b[0m\n\u001b[1;32m      4\u001b[0m \u001b[0mprint\u001b[0m\u001b[0;34m(\u001b[0m\u001b[0;34m\"Recall: %0.2f\"\u001b[0m \u001b[0;34m%\u001b[0m \u001b[0mrecall_score\u001b[0m\u001b[0;34m(\u001b[0m\u001b[0my_test\u001b[0m\u001b[0;34m,\u001b[0m \u001b[0mgrid_rf\u001b[0m\u001b[0;34m.\u001b[0m\u001b[0mpredict\u001b[0m\u001b[0;34m(\u001b[0m\u001b[0mX_test\u001b[0m\u001b[0;34m)\u001b[0m\u001b[0;34m)\u001b[0m\u001b[0;34m)\u001b[0m\u001b[0;34m\u001b[0m\u001b[0m\n\u001b[1;32m      5\u001b[0m \u001b[0;34m\u001b[0m\u001b[0m\n",
      "\u001b[0;31mAttributeError\u001b[0m: 'GridSearchCV' object has no attribute 'best_params_'"
     ]
    }
   ],
   "source": [
    "print(\"\\n\\n Parameters from best model:\\n\", grid_rf.best_params_)\n",
    "print(\"\\nPrecision: %0.2f\" % precision_score(y_test, grid_rf.predict(X_test)))\n",
    "print(\"Accuracy: %0.2f\" % accuracy_score(y_test, grid_rf.predict(X_test)))\n",
    "print(\"Recall: %0.2f\" % recall_score(y_test, grid_rf.predict(X_test)))\n",
    "\n",
    "crit = 'gini'\n",
    "max_depth = 7\n",
    "max_features = 'auto'\n",
    "min_samples_leaf = 4\n",
    "n_estimators = 100\n",
    "\n",
    "rf_gc_params = RandomForestClassifier(random_state=42, criterion='gini', min_samples_leaf=4,\n",
    "                                      n_estimators=100, max_features='auto')\n",
    "rf_gc_params.fit(X_train, y_train)\n",
    "\n",
    "cm = confusion_matrix(y_test, grid_rf.predict(X_test))\n",
    "plt.figure(figsize = (11, 6))\n",
    "plt.subplot(1, 2, 1)\n",
    "plot_confusion_matrix(cm, ['Non-Outperform', 'Outperform'])\n",
    "plt.title(\"Non-Normalized Confusion Matrix\")\n",
    "plt.subplot(1, 2, 2)\n",
    "plot_confusion_matrix(cm, ['Non-Outperform', 'Outperform'], normalize=True)\n",
    "plt.title(\"Normalized Confusion Matrix\")\n",
    "plt.ylabel(\"\")\n",
    "plt.show()"
   ]
  },
  {
   "cell_type": "markdown",
   "metadata": {},
   "source": [
    "Our grid search took overnight to complete, but yielded barely better results than our default random forest. This goes to show one of the biggest strenghts of the random forest algorithm, it performs very well out-of-the-box. While it is possible to get better results by optimizing hyperparameters, they aren't likely to be significantly better, which is an important factor in many applications. If eeking out every last possible drop of accuracy is important, running models overnight may be worth the trouble, but in many applications a random forest with default parameters may just be \"good enough.\" "
   ]
  },
  {
   "cell_type": "markdown",
   "metadata": {},
   "source": [
    "### Scaling Pipeline\n",
    "\n",
    "Although the StandardScaler was used above to normalize the data, that operates under the assumption that the data in our set is well-suited to a standard normal distribution. We therefore combined a **for** loop with a Pipeline to cycle through the data utilizing different scalers."
   ]
  },
  {
   "cell_type": "code",
   "execution_count": 38,
   "metadata": {},
   "outputs": [
    {
     "name": "stdout",
     "output_type": "stream",
     "text": [
      "Fitting 10 folds for each of 290 candidates, totalling 2900 fits\n"
     ]
    },
    {
     "name": "stderr",
     "output_type": "stream",
     "text": [
      "[Parallel(n_jobs=4)]: Done  53 tasks      | elapsed:    2.8s\n",
      "[Parallel(n_jobs=4)]: Done 353 tasks      | elapsed:    8.8s\n",
      "[Parallel(n_jobs=4)]: Done 1097 tasks      | elapsed:   20.5s\n",
      "[Parallel(n_jobs=4)]: Done 2497 tasks      | elapsed:   47.0s\n",
      "[Parallel(n_jobs=4)]: Done 2893 out of 2900 | elapsed:   57.4s remaining:    0.0s\n",
      "[Parallel(n_jobs=4)]: Done 2900 out of 2900 | elapsed:   57.6s finished\n"
     ]
    },
    {
     "data": {
      "text/plain": [
       "GridSearchCV(cv=ShuffleSplit(n_splits=10, random_state=0, test_size=0.2, train_size=None),\n",
       "       error_score='raise',\n",
       "       estimator=Pipeline(memory=None,\n",
       "     steps=[('standardscaler', StandardScaler(copy=True, with_mean=True, with_std=True)), ('kneighborsclassifier', KNeighborsClassifier(algorithm='auto', leaf_size=30, metric='minkowski',\n",
       "           metric_params=None, n_jobs=1, n_neighbors=5, p=2,\n",
       "           weights='uniform'))]),\n",
       "       fit_params=None, iid=True, n_jobs=4,\n",
       "       param_grid={'kneighborsclassifier__n_neighbors': [1, 2, 3, 4, 5, 6, 7, 8, 9, 10, 11, 12, 13, 14, 15, 16, 17, 18, 19, 20, 21, 22, 23, 24, 25, 26, 27, 28, 29], 'kneighborsclassifier__weights': ['uniform', 'distance'], 'kneighborsclassifier__metric': ['euclidean', 'chebyshev', 'manhattan', 'minkowski', 'jaccard']},\n",
       "       pre_dispatch='2*n_jobs', refit=True, return_train_score='warn',\n",
       "       scoring='precision', verbose=1)"
      ]
     },
     "execution_count": 38,
     "metadata": {},
     "output_type": "execute_result"
    }
   ],
   "source": [
    "from sklearn.preprocessing import MinMaxScaler\n",
    "from sklearn.preprocessing import minmax_scale\n",
    "from sklearn.preprocessing import MaxAbsScaler\n",
    "from sklearn.preprocessing import StandardScaler\n",
    "from sklearn.preprocessing import RobustScaler\n",
    "from sklearn.preprocessing import Normalizer\n",
    "from sklearn.preprocessing.data import QuantileTransformer\n",
    "#KNN 10-fold cross-validation \n",
    "from sklearn.neighbors import KNeighborsClassifier\n",
    "from sklearn.model_selection import GridSearchCV\n",
    "from scipy.spatial.distance import euclidean\n",
    "from scipy.spatial.distance import jaccard\n",
    "from sklearn.pipeline import make_pipeline\n",
    "from sklearn.preprocessing import StandardScaler\n",
    "from sklearn.model_selection import StratifiedShuffleSplit\n",
    "import warnings\n",
    "warnings.filterwarnings('ignore')\n",
    "\n",
    "class_cv = ShuffleSplit(n_splits=10, test_size=0.20, random_state=0)\n",
    "\n",
    "knc = KNeighborsClassifier(n_neighbors=5)\n",
    "\n",
    "scales = {RobustScaler(quantile_range=(25, 75)),\n",
    "         StandardScaler(),\n",
    "         MinMaxScaler(),\n",
    "         MaxAbsScaler(),\n",
    "         QuantileTransformer(output_distribution='uniform'),\n",
    "         QuantileTransformer(output_distribution='normal'),\n",
    "         Normalizer()}\n",
    "\n",
    "k_range = list(range(1, 30))\n",
    "metrics = ['euclidean','chebyshev','manhattan','minkowski','jaccard']\n",
    "weights_options = ['uniform','distance']\n",
    "\n",
    "knn_parameters = {'kneighborsclassifier__n_neighbors': k_range,'kneighborsclassifier__weights': weights_options, 'kneighborsclassifier__metric': metrics}\n",
    "\n",
    "#Create a grid search object using the defined parameters\n",
    "for i in scales:\n",
    "    scaled_knn_pipe = make_pipeline(i, knc)\n",
    "    kGridSearch = GridSearchCV(scaled_knn_pipe,param_grid=knn_parameters,n_jobs=4,verbose=1,cv=class_cv,scoring='precision')\n",
    "\n",
    "#Perform hyperparameter search to find the best combination of parameters for our data\n",
    "kGridSearch.fit(X_class, Y_class)"
   ]
  },
  {
   "cell_type": "code",
   "execution_count": 39,
   "metadata": {},
   "outputs": [
    {
     "data": {
      "text/plain": [
       "Pipeline(memory=None,\n",
       "     steps=[('standardscaler', StandardScaler(copy=True, with_mean=True, with_std=True)), ('kneighborsclassifier', KNeighborsClassifier(algorithm='auto', leaf_size=30, metric='euclidean',\n",
       "           metric_params=None, n_jobs=1, n_neighbors=26, p=2,\n",
       "           weights='uniform'))])"
      ]
     },
     "execution_count": 39,
     "metadata": {},
     "output_type": "execute_result"
    }
   ],
   "source": [
    "kGridSearch.best_estimator_"
   ]
  },
  {
   "cell_type": "code",
   "execution_count": 40,
   "metadata": {},
   "outputs": [
    {
     "name": "stdout",
     "output_type": "stream",
     "text": [
      "The average accuracy for all cv folds is: \t\t\t 0.81882\n",
      "The average precision for all cv folds is: \t\t\t 0.86533\n",
      "The average recall for all cv folds is: \t\t\t 0.6125\n",
      "*********************************************************\n",
      "Cross Validation Fold Mean Error Scores\n"
     ]
    },
    {
     "data": {
      "text/html": [
       "<div>\n",
       "<style scoped>\n",
       "    .dataframe tbody tr th:only-of-type {\n",
       "        vertical-align: middle;\n",
       "    }\n",
       "\n",
       "    .dataframe tbody tr th {\n",
       "        vertical-align: top;\n",
       "    }\n",
       "\n",
       "    .dataframe thead th {\n",
       "        text-align: right;\n",
       "    }\n",
       "</style>\n",
       "<table border=\"1\" class=\"dataframe\">\n",
       "  <thead>\n",
       "    <tr style=\"text-align: right;\">\n",
       "      <th></th>\n",
       "      <th>Accuracy</th>\n",
       "      <th>Precision</th>\n",
       "      <th>Recall</th>\n",
       "    </tr>\n",
       "  </thead>\n",
       "  <tbody>\n",
       "    <tr>\n",
       "      <th>0</th>\n",
       "      <td>0.788235</td>\n",
       "      <td>0.888889</td>\n",
       "      <td>0.50000</td>\n",
       "    </tr>\n",
       "    <tr>\n",
       "      <th>1</th>\n",
       "      <td>0.800000</td>\n",
       "      <td>0.857143</td>\n",
       "      <td>0.56250</td>\n",
       "    </tr>\n",
       "    <tr>\n",
       "      <th>2</th>\n",
       "      <td>0.788235</td>\n",
       "      <td>0.850000</td>\n",
       "      <td>0.53125</td>\n",
       "    </tr>\n",
       "    <tr>\n",
       "      <th>3</th>\n",
       "      <td>0.870588</td>\n",
       "      <td>0.862069</td>\n",
       "      <td>0.78125</td>\n",
       "    </tr>\n",
       "    <tr>\n",
       "      <th>4</th>\n",
       "      <td>0.847059</td>\n",
       "      <td>0.880000</td>\n",
       "      <td>0.68750</td>\n",
       "    </tr>\n",
       "    <tr>\n",
       "      <th>5</th>\n",
       "      <td>0.823529</td>\n",
       "      <td>0.869565</td>\n",
       "      <td>0.62500</td>\n",
       "    </tr>\n",
       "    <tr>\n",
       "      <th>6</th>\n",
       "      <td>0.894118</td>\n",
       "      <td>0.925926</td>\n",
       "      <td>0.78125</td>\n",
       "    </tr>\n",
       "    <tr>\n",
       "      <th>7</th>\n",
       "      <td>0.752941</td>\n",
       "      <td>0.823529</td>\n",
       "      <td>0.43750</td>\n",
       "    </tr>\n",
       "    <tr>\n",
       "      <th>8</th>\n",
       "      <td>0.788235</td>\n",
       "      <td>0.850000</td>\n",
       "      <td>0.53125</td>\n",
       "    </tr>\n",
       "    <tr>\n",
       "      <th>9</th>\n",
       "      <td>0.835294</td>\n",
       "      <td>0.846154</td>\n",
       "      <td>0.68750</td>\n",
       "    </tr>\n",
       "  </tbody>\n",
       "</table>\n",
       "</div>"
      ],
      "text/plain": [
       "   Accuracy  Precision   Recall\n",
       "0  0.788235   0.888889  0.50000\n",
       "1  0.800000   0.857143  0.56250\n",
       "2  0.788235   0.850000  0.53125\n",
       "3  0.870588   0.862069  0.78125\n",
       "4  0.847059   0.880000  0.68750\n",
       "5  0.823529   0.869565  0.62500\n",
       "6  0.894118   0.925926  0.78125\n",
       "7  0.752941   0.823529  0.43750\n",
       "8  0.788235   0.850000  0.53125\n",
       "9  0.835294   0.846154  0.68750"
      ]
     },
     "execution_count": 40,
     "metadata": {},
     "output_type": "execute_result"
    }
   ],
   "source": [
    "EvaluateClassifierEstimator(kGridSearch.best_estimator_, X_class, Y_class, cv_class)"
   ]
  },
  {
   "cell_type": "markdown",
   "metadata": {},
   "source": [
    "The GridSearch determined that the best scaler to use with K-Nearest Neighbors and our data set was a normally distributed quantile transformed scaler. Although precision and accuracy both decreased slightly compared to the standard scaled model above, the recall increased by over 10%. This is indicative of a more balanced model overall."
   ]
  }
 ],
 "metadata": {
  "kernelspec": {
   "display_name": "Python 3",
   "language": "python",
   "name": "python3"
  },
  "language_info": {
   "codemirror_mode": {
    "name": "ipython",
    "version": 3
   },
   "file_extension": ".py",
   "mimetype": "text/x-python",
   "name": "python",
   "nbconvert_exporter": "python",
   "pygments_lexer": "ipython3",
   "version": "3.6.5"
  }
 },
 "nbformat": 4,
 "nbformat_minor": 2
}
