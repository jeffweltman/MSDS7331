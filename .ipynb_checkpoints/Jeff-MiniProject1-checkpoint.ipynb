{
 "cells": [
  {
   "cell_type": "code",
   "execution_count": 1,
   "metadata": {},
   "outputs": [],
   "source": [
    "%config IPCompleter.greedy=True\n",
    "import numpy as np\n",
    "import pandas as pd\n",
    "\n",
    "# Read dataset off Github\n",
    "ml_hs_2017_all = pd.read_csv(\"https://github.com/jakemdrew/EducationDataNC/raw/master/2017/Machine%20Learning%20Datasets/PublicHighSchools2017_ML.csv\")\n",
    "\n",
    "# creating categorical variable from existing column - https://stackoverflow.com/a/49269107\n",
    "ml_hs_2017_all.loc[ml_hs_2017_all['sat_avg_score_num'] < 1080,'sat_high_level'] = 0\n",
    "ml_hs_2017_all.loc[ml_hs_2017_all['sat_avg_score_num'] >= 1080,'sat_high_level'] = 1\n",
    "\n",
    "# subsetting to remove rows where no average SAT score was reported\n",
    "ml_hs_2017 = ml_hs_2017_all.loc[ml_hs_2017_all['sat_avg_score_num'] >0]"
   ]
  },
  {
   "cell_type": "code",
   "execution_count": 2,
   "metadata": {},
   "outputs": [],
   "source": [
    "zero_counts = []\n",
    "for column in ml_hs_2017:\n",
    "    zero_counts.append({'Column': column, 'count': np.sum((ml_hs_2017[column]==0)), 'Percentage': np.sum((ml_hs_2017[column]==0)/len(ml_hs_2017))})"
   ]
  },
  {
   "cell_type": "code",
   "execution_count": 3,
   "metadata": {},
   "outputs": [],
   "source": [
    "zero_counts = pd.DataFrame(zero_counts)\n",
    "to_drop = zero_counts.loc[zero_counts['Percentage'] >= .999]\n",
    "hs_2017 = ml_hs_2017.drop(to_drop['Column'], axis=1)"
   ]
  },
  {
   "cell_type": "code",
   "execution_count": 4,
   "metadata": {},
   "outputs": [],
   "source": [
    "# derive the absolute pearson's r for correlation, convert to dataframe\n",
    "\n",
    "abs_correlation_ml_final = hs_2017.corr(method='pearson').abs()\n",
    "abs_correlation_ml_final = pd.DataFrame(abs_correlation_ml_final)"
   ]
  },
  {
   "cell_type": "code",
   "execution_count": 6,
   "metadata": {},
   "outputs": [
    {
     "name": "stdout",
     "output_type": "stream",
     "text": [
      "<class 'pandas.core.frame.DataFrame'>\n",
      "Int64Index: 421 entries, 0 to 469\n",
      "Columns: 258 entries, sat_high_level to EOCBiology_CACR_Black\n",
      "dtypes: float64(239), int64(19)\n",
      "memory usage: 851.9 KB\n"
     ]
    },
    {
     "ename": "AttributeError",
     "evalue": "module 'pandas' has no attribute 'write_csv'",
     "output_type": "error",
     "traceback": [
      "\u001b[0;31m---------------------------------------------------------------------------\u001b[0m",
      "\u001b[0;31mAttributeError\u001b[0m                            Traceback (most recent call last)",
      "\u001b[0;32m<ipython-input-6-a7dfa06a30bc>\u001b[0m in \u001b[0;36m<module>\u001b[0;34m()\u001b[0m\n\u001b[1;32m      5\u001b[0m \u001b[0mhs_2017\u001b[0m \u001b[0;34m=\u001b[0m \u001b[0mhs_2017\u001b[0m\u001b[0;34m[\u001b[0m\u001b[0;34m[\u001b[0m\u001b[0;34m'sat_high_level'\u001b[0m\u001b[0;34m,\u001b[0m\u001b[0;34m'sat_avg_score_num'\u001b[0m\u001b[0;34m,\u001b[0m\u001b[0;34m'ACTMath_ACTBenchmark_All'\u001b[0m\u001b[0;34m,\u001b[0m\u001b[0;34m'ACTScience_ACTBenchmark_All'\u001b[0m\u001b[0;34m,\u001b[0m\u001b[0;34m'ACTMath_ACTBenchmark_Female'\u001b[0m\u001b[0;34m,\u001b[0m\u001b[0;34m'ACTScience_ACTBenchmark_Female'\u001b[0m\u001b[0;34m,\u001b[0m\u001b[0;34m'ACTReading_ACTBenchmark_Female'\u001b[0m\u001b[0;34m,\u001b[0m\u001b[0;34m'ACTEnglish_ACTBenchmark_Female'\u001b[0m\u001b[0;34m,\u001b[0m\u001b[0;34m'ACTMath_ACTBenchmark_Male'\u001b[0m\u001b[0;34m,\u001b[0m\u001b[0;34m'ACTScience_ACTBenchmark_Male'\u001b[0m\u001b[0;34m,\u001b[0m\u001b[0;34m'ACT Score'\u001b[0m\u001b[0;34m,\u001b[0m\u001b[0;34m'Gr_9_Pct_Prof'\u001b[0m\u001b[0;34m,\u001b[0m\u001b[0;34m'ACTCompositeScore_UNCMin_Female'\u001b[0m\u001b[0;34m,\u001b[0m\u001b[0;34m'ACTWriting_ACTBenchmark_All'\u001b[0m\u001b[0;34m,\u001b[0m\u001b[0;34m'EOCSubjects_CACR_All'\u001b[0m\u001b[0;34m,\u001b[0m\u001b[0;34m'ACTMath_ACTBenchmark_White'\u001b[0m\u001b[0;34m,\u001b[0m\u001b[0;34m'SPG Score'\u001b[0m\u001b[0;34m,\u001b[0m\u001b[0;34m'EOCMathI_CACR_Male'\u001b[0m\u001b[0;34m,\u001b[0m\u001b[0;34m'ACTSubtests_BenchmarksMet_White'\u001b[0m\u001b[0;34m,\u001b[0m\u001b[0;34m'ACTScience_ACTBenchmark_White'\u001b[0m\u001b[0;34m,\u001b[0m\u001b[0;34m'ACTCompositeScore_UNCMin_Male'\u001b[0m\u001b[0;34m,\u001b[0m\u001b[0;34m'pct_eds'\u001b[0m\u001b[0;34m,\u001b[0m\u001b[0;34m'lea_sat_avg_score_num'\u001b[0m\u001b[0;34m,\u001b[0m\u001b[0;34m'NC Math 1 Score'\u001b[0m\u001b[0;34m,\u001b[0m\u001b[0;34m'EOCEnglish2_CACR_Female'\u001b[0m\u001b[0;34m,\u001b[0m\u001b[0;34m'EOCEnglish2_CACR_Male'\u001b[0m\u001b[0;34m,\u001b[0m\u001b[0;34m'EOCSubjects_CACR_White'\u001b[0m\u001b[0;34m,\u001b[0m\u001b[0;34m'ACTWriting_ACTBenchmark_Male'\u001b[0m\u001b[0;34m,\u001b[0m\u001b[0;34m'ACTSubtests_BenchmarksMet_EDS'\u001b[0m\u001b[0;34m,\u001b[0m\u001b[0;34m'EOCMathI_CACR_White'\u001b[0m\u001b[0;34m,\u001b[0m\u001b[0;34m'ACTSubtests_BenchmarksMet_AIG'\u001b[0m\u001b[0;34m,\u001b[0m\u001b[0;34m'EOCBiology_CACR_Female'\u001b[0m\u001b[0;34m,\u001b[0m\u001b[0;34m'ACTWriting_ACTBenchmark_White'\u001b[0m\u001b[0;34m,\u001b[0m\u001b[0;34m'English II Score'\u001b[0m\u001b[0;34m,\u001b[0m\u001b[0;34m'ACTScience_ACTBenchmark_AIG'\u001b[0m\u001b[0;34m,\u001b[0m\u001b[0;34m'ACTScience_ACTBenchmark_EDS'\u001b[0m\u001b[0;34m,\u001b[0m\u001b[0;34m'ACTSubtests_BenchmarksMet_Hispanic'\u001b[0m\u001b[0;34m,\u001b[0m\u001b[0;34m'Biology Score'\u001b[0m\u001b[0;34m,\u001b[0m\u001b[0;34m'EOCBiology_CACR_Male'\u001b[0m\u001b[0;34m,\u001b[0m\u001b[0;34m'EOCEnglish2_CACR_White'\u001b[0m\u001b[0;34m,\u001b[0m\u001b[0;34m'ACTMath_ACTBenchmark_EDS'\u001b[0m\u001b[0;34m,\u001b[0m\u001b[0;34m'4-Year Cohort Graduation Rate Score'\u001b[0m\u001b[0;34m,\u001b[0m\u001b[0;34m'ACTCompositeScore_UNCMin_White'\u001b[0m\u001b[0;34m,\u001b[0m\u001b[0;34m'EOCSubjects_CACR_EDS'\u001b[0m\u001b[0;34m,\u001b[0m\u001b[0;34m'ACTWriting_ACTBenchmark_AIG'\u001b[0m\u001b[0;34m,\u001b[0m\u001b[0;34m'lea_ap_pct_3_or_above'\u001b[0m\u001b[0;34m,\u001b[0m\u001b[0;34m'ACTReading_ACTBenchmark_EDS'\u001b[0m\u001b[0;34m,\u001b[0m\u001b[0;34m'EOCSubjects_CACR_Hispanic'\u001b[0m\u001b[0;34m,\u001b[0m\u001b[0;34m'MW_White_ENROLL_sch_pct'\u001b[0m\u001b[0;34m,\u001b[0m\u001b[0;34m'BlackPct'\u001b[0m\u001b[0;34m,\u001b[0m\u001b[0;34m'EOCBiology_CACR_White'\u001b[0m\u001b[0;34m,\u001b[0m\u001b[0;34m'ACTWriting_ACTBenchmark_EDS'\u001b[0m\u001b[0;34m,\u001b[0m\u001b[0;34m'EOCMathI_CACR_EDS'\u001b[0m\u001b[0;34m,\u001b[0m\u001b[0;34m'ACTSubtests_BenchmarksMet_Asian'\u001b[0m\u001b[0;34m,\u001b[0m\u001b[0;34m'ACTEnglish_ACTBenchmark_EDS'\u001b[0m\u001b[0;34m,\u001b[0m\u001b[0;34m'BlackMalePct'\u001b[0m\u001b[0;34m,\u001b[0m\u001b[0;34m'ap_pct_3_or_above'\u001b[0m\u001b[0;34m,\u001b[0m\u001b[0;34m'short_susp_per_c_num'\u001b[0m\u001b[0;34m,\u001b[0m\u001b[0;34m'Proficient_TCHR_Standard 4_Pct'\u001b[0m\u001b[0;34m,\u001b[0m\u001b[0;34m'MinorityPct'\u001b[0m\u001b[0;34m,\u001b[0m\u001b[0;34m'ACTMath_ACTBenchmark_AIG'\u001b[0m\u001b[0;34m,\u001b[0m\u001b[0;34m'ACTCompositeScore_UNCMin_EDS'\u001b[0m\u001b[0;34m,\u001b[0m\u001b[0;34m'MinorityMalePct'\u001b[0m\u001b[0;34m,\u001b[0m\u001b[0;34m'SPG Grade_C'\u001b[0m\u001b[0;34m,\u001b[0m\u001b[0;34m'lateral_teach_pct'\u001b[0m\u001b[0;34m,\u001b[0m\u001b[0;34m'ACTSubtests_BenchmarksMet_TwoorMoreRaces'\u001b[0m\u001b[0;34m,\u001b[0m\u001b[0;34m'avg_daily_attend_pct'\u001b[0m\u001b[0;34m,\u001b[0m\u001b[0;34m'lea_federal_perpupil_num'\u001b[0m\u001b[0;34m,\u001b[0m\u001b[0;34m'Proficient_TCHR_Standard 1_Pct'\u001b[0m\u001b[0;34m,\u001b[0m\u001b[0;34m'BlackFemalePct'\u001b[0m\u001b[0;34m,\u001b[0m\u001b[0;34m'EOCEnglish2_CACR_EDS'\u001b[0m\u001b[0;34m,\u001b[0m\u001b[0;34m'flicensed_teach_pct'\u001b[0m\u001b[0;34m,\u001b[0m\u001b[0;34m'ACTSubtests_BenchmarksMet_Black'\u001b[0m\u001b[0;34m,\u001b[0m\u001b[0;34m'Proficient_TCHR_Standard 2_Pct'\u001b[0m\u001b[0;34m,\u001b[0m\u001b[0;34m'lea_salary_expense_pct'\u001b[0m\u001b[0;34m,\u001b[0m\u001b[0;34m'ACTScience_ACTBenchmark_Hispanic'\u001b[0m\u001b[0;34m,\u001b[0m\u001b[0;34m'lea_flicensed_teach_pct'\u001b[0m\u001b[0;34m,\u001b[0m\u001b[0;34m'lea_nbpts_num'\u001b[0m\u001b[0;34m,\u001b[0m\u001b[0;34m'advance_dgr_pct'\u001b[0m\u001b[0;34m,\u001b[0m\u001b[0;34m'lea_short_susp_per_c_num'\u001b[0m\u001b[0;34m,\u001b[0m\u001b[0;34m'EOCSubjects_CACR_Asian'\u001b[0m\u001b[0;34m,\u001b[0m\u001b[0;34m'lea_ap_participation_pct'\u001b[0m\u001b[0;34m,\u001b[0m\u001b[0;34m'lea_advance_dgr_pct'\u001b[0m\u001b[0;34m,\u001b[0m\u001b[0;34m'ACTWriting_ACTBenchmark_Hispanic'\u001b[0m\u001b[0;34m,\u001b[0m\u001b[0;34m'Proficient_TCHR_Standard 3_Pct'\u001b[0m\u001b[0;34m,\u001b[0m\u001b[0;34m'Proficient_TCHR_Standard 5_Pct'\u001b[0m\u001b[0;34m,\u001b[0m\u001b[0;34m'ACTMath_ACTBenchmark_Hispanic'\u001b[0m\u001b[0;34m,\u001b[0m\u001b[0;34m'Exceeds Expected Growth_TCHR_Student Growth_Pct'\u001b[0m\u001b[0;34m,\u001b[0m\u001b[0;34m'Does Not Meet Expected Growth_TCHR_Student Growth_Pct'\u001b[0m\u001b[0;34m,\u001b[0m\u001b[0;34m'EOCBiology_CACR_Asian'\u001b[0m\u001b[0;34m,\u001b[0m\u001b[0;34m'ACTReading_ACTBenchmark_Hispanic'\u001b[0m\u001b[0;34m,\u001b[0m\u001b[0;34m'EOCEnglish2_CACR_Asian'\u001b[0m\u001b[0;34m,\u001b[0m\u001b[0;34m'MinorityFemalePct'\u001b[0m\u001b[0;34m,\u001b[0m\u001b[0;34m'ACTSubtests_BenchmarksMet_SWD'\u001b[0m\u001b[0;34m,\u001b[0m\u001b[0;34m'nbpts_num'\u001b[0m\u001b[0;34m,\u001b[0m\u001b[0;34m'MB_Black_ENROLL_sch_pct'\u001b[0m\u001b[0;34m,\u001b[0m\u001b[0;34m'ap_participation_pct'\u001b[0m\u001b[0;34m,\u001b[0m\u001b[0;34m'AsianFemalePct'\u001b[0m\u001b[0;34m,\u001b[0m\u001b[0;34m'cte_courses'\u001b[0m\u001b[0;34m,\u001b[0m\u001b[0;34m'Accomplished_TCHR_Standard 4_Pct'\u001b[0m\u001b[0;34m,\u001b[0m\u001b[0;34m'EOCBiology_CACR_EDS'\u001b[0m\u001b[0;34m,\u001b[0m\u001b[0;34m'Accomplished_TCHR_Standard 5_Pct'\u001b[0m\u001b[0;34m,\u001b[0m\u001b[0;34m'ACTEnglish_ACTBenchmark_Hispanic'\u001b[0m\u001b[0;34m,\u001b[0m\u001b[0;34m'ACTWriting_ACTBenchmark_Asian'\u001b[0m\u001b[0;34m,\u001b[0m\u001b[0;34m'ACTScience_ACTBenchmark_Black'\u001b[0m\u001b[0;34m,\u001b[0m\u001b[0;34m'ACTEnglish_ACTBenchmark_SWD'\u001b[0m\u001b[0;34m,\u001b[0m\u001b[0;34m'Accomplished_TCHR_Standard 2_Pct'\u001b[0m\u001b[0;34m,\u001b[0m\u001b[0;34m'ACTCompositeScore_UNCMin_SWD'\u001b[0m\u001b[0;34m,\u001b[0m\u001b[0;34m'ACTCompositeScore_UNCMin_Asian'\u001b[0m\u001b[0;34m,\u001b[0m\u001b[0;34m'AsianMalePct'\u001b[0m\u001b[0;34m,\u001b[0m\u001b[0;34m'EOCMathI_CACR_Hispanic'\u001b[0m\u001b[0;34m,\u001b[0m\u001b[0;34m'ACTReading_ACTBenchmark_SWD'\u001b[0m\u001b[0;34m,\u001b[0m\u001b[0;34m'lea_supplies_expense_pct'\u001b[0m\u001b[0;34m,\u001b[0m\u001b[0;34m'EOCMathI_CACR_Asian'\u001b[0m\u001b[0;34m,\u001b[0m\u001b[0;34m'Accomplished_TCHR_Standard 1_Pct'\u001b[0m\u001b[0;34m,\u001b[0m\u001b[0;34m'ALL_All Students (Total or Subtotal_ENROLL_sch_pct'\u001b[0m\u001b[0;34m,\u001b[0m\u001b[0;34m'ACTScience_ACTBenchmark_SWD'\u001b[0m\u001b[0;34m,\u001b[0m\u001b[0;34m'ACTMath_ACTBenchmark_SWD'\u001b[0m\u001b[0;34m,\u001b[0m\u001b[0;34m'GraduationRate_4yr_Male'\u001b[0m\u001b[0;34m,\u001b[0m\u001b[0;34m'GraduationRate_4yr_Asian'\u001b[0m\u001b[0;34m,\u001b[0m\u001b[0;34m'M_Male_ENROLL_sch_pct'\u001b[0m\u001b[0;34m,\u001b[0m\u001b[0;34m'State Gap Compared_Y'\u001b[0m\u001b[0;34m,\u001b[0m\u001b[0;34m'tchyrs_0thru3_pct'\u001b[0m\u001b[0;34m,\u001b[0m\u001b[0;34m'GraduationRate_4yr_Female'\u001b[0m\u001b[0;34m,\u001b[0m\u001b[0;34m'lea_state_perpupil_num'\u001b[0m\u001b[0;34m,\u001b[0m\u001b[0;34m'GraduationRate_5yr_Asian'\u001b[0m\u001b[0;34m,\u001b[0m\u001b[0;34m'Accomplished_TCHR_Standard 3_Pct'\u001b[0m\u001b[0;34m,\u001b[0m\u001b[0;34m'GraduationRate_4yr_White'\u001b[0m\u001b[0;34m,\u001b[0m\u001b[0;34m'EOCSubjects_CACR_Black'\u001b[0m\u001b[0;34m,\u001b[0m\u001b[0;34m'lea_tchyrs_0thru3_pct'\u001b[0m\u001b[0;34m,\u001b[0m\u001b[0;34m'lea_avg_daily_attend_pct'\u001b[0m\u001b[0;34m,\u001b[0m\u001b[0;34m'ACTMath_ACTBenchmark_Black'\u001b[0m\u001b[0;34m,\u001b[0m\u001b[0;34m'EOCEnglish2_CACR_Hispanic'\u001b[0m\u001b[0;34m,\u001b[0m\u001b[0;34m'EOCSubjects_CACR_AIG'\u001b[0m\u001b[0;34m,\u001b[0m\u001b[0;34m'ACTScience_ACTBenchmark_TwoorMoreRaces'\u001b[0m\u001b[0;34m,\u001b[0m\u001b[0;34m'ACTMath_ACTBenchmark_TwoorMoreRaces'\u001b[0m\u001b[0;34m,\u001b[0m\u001b[0;34m'GraduationRate_5yr_White'\u001b[0m\u001b[0;34m,\u001b[0m\u001b[0;34m'EOCBiology_CACR_TwoorMoreRaces'\u001b[0m\u001b[0;34m,\u001b[0m\u001b[0;34m'lea_local_perpupil_num'\u001b[0m\u001b[0;34m,\u001b[0m\u001b[0;34m'EOCMathI_CACR_AIG'\u001b[0m\u001b[0;34m,\u001b[0m\u001b[0;34m'EOCMathI_CACR_TwoorMoreRaces'\u001b[0m\u001b[0;34m,\u001b[0m\u001b[0;34m'lea_1yr_tchr_trnovr_pct'\u001b[0m\u001b[0;34m,\u001b[0m\u001b[0;34m'Distinguished_TCHR_Standard 4_Pct'\u001b[0m\u001b[0;34m,\u001b[0m\u001b[0;34m'ACTWriting_ACTBenchmark_SWD'\u001b[0m\u001b[0;34m,\u001b[0m\u001b[0;34m'ACTWorkKeys_SilverPlus_Black'\u001b[0m\u001b[0;34m,\u001b[0m\u001b[0;34m'EOCBiology_CACR_Hispanic'\u001b[0m\u001b[0;34m,\u001b[0m\u001b[0;34m'ACTCompositeScore_UNCMin_Hispanic'\u001b[0m\u001b[0;34m,\u001b[0m\u001b[0;34m'EOCBiology_CACR_AIG'\u001b[0m\u001b[0;34m,\u001b[0m\u001b[0;34m'SPG Grade_A+NG'\u001b[0m\u001b[0;34m,\u001b[0m\u001b[0;34m'EOCSubjects_CACR_TwoorMoreRaces'\u001b[0m\u001b[0;34m,\u001b[0m\u001b[0;34m'ACTWriting_ACTBenchmark_TwoorMoreRaces'\u001b[0m\u001b[0;34m,\u001b[0m\u001b[0;34m'EOCMathI_CACR_SWD'\u001b[0m\u001b[0;34m,\u001b[0m\u001b[0;34m'Distinguished_TCHR_Standard 1_Pct'\u001b[0m\u001b[0;34m,\u001b[0m\u001b[0;34m'EVAAS Growth Status_NotMet'\u001b[0m\u001b[0;34m,\u001b[0m\u001b[0;34m'GraduationRate_4yr_Black'\u001b[0m\u001b[0;34m,\u001b[0m\u001b[0;34m'SPG Grade_B'\u001b[0m\u001b[0;34m,\u001b[0m\u001b[0;34m'ACTReading_ACTBenchmark_Black'\u001b[0m\u001b[0;34m,\u001b[0m\u001b[0;34m'SPG Grade_D'\u001b[0m\u001b[0;34m,\u001b[0m\u001b[0;34m'lea_avg_student_num'\u001b[0m\u001b[0;34m,\u001b[0m\u001b[0;34m'_1yr_tchr_trnovr_pct'\u001b[0m\u001b[0;34m,\u001b[0m\u001b[0;34m'EOG/EOCSubjects_CACR_SWD'\u001b[0m\u001b[0;34m,\u001b[0m\u001b[0;34m'GraduationRate_5yr_All'\u001b[0m\u001b[0;34m,\u001b[0m\u001b[0;34m'EOCEnglish2_CACR_SWD'\u001b[0m\u001b[0;34m,\u001b[0m\u001b[0;34m'lea_books_per_student'\u001b[0m\u001b[0;34m,\u001b[0m\u001b[0;34m'ACTWriting_ACTBenchmark_Black'\u001b[0m\u001b[0;34m,\u001b[0m\u001b[0;34m'GraduationRate_5yr_Black'\u001b[0m\u001b[0;34m,\u001b[0m\u001b[0;34m'lea_instruct_equip_exp_pct'\u001b[0m\u001b[0;34m,\u001b[0m\u001b[0;34m'lea_services_expense_pct'\u001b[0m\u001b[0;34m,\u001b[0m\u001b[0;34m'EOCSubjects_CACR_SWD'\u001b[0m\u001b[0;34m,\u001b[0m\u001b[0;34m'ACTReading_ACTBenchmark_TwoorMoreRaces'\u001b[0m\u001b[0;34m,\u001b[0m\u001b[0;34m'F_Female_ENROLL_sch_pct'\u001b[0m\u001b[0;34m,\u001b[0m\u001b[0;34m'EOCEnglish2_CACR_AIG'\u001b[0m\u001b[0;34m,\u001b[0m\u001b[0;34m'univ_college_courses'\u001b[0m\u001b[0;34m,\u001b[0m\u001b[0;34m'Distinguished_TCHR_Standard 3_Pct'\u001b[0m\u001b[0;34m,\u001b[0m\u001b[0;34m'GraduationRate_5yr_Female'\u001b[0m\u001b[0;34m,\u001b[0m\u001b[0;34m'ACTCompositeScore_UNCMin_AIG'\u001b[0m\u001b[0;34m,\u001b[0m\u001b[0;34m'EOCEnglish2_CACR_TwoorMoreRaces'\u001b[0m\u001b[0;34m,\u001b[0m\u001b[0;34m'Distinguished_TCHR_Standard 2_Pct'\u001b[0m\u001b[0;34m,\u001b[0m\u001b[0;34m'EOCMathI_GLP_SWD'\u001b[0m\u001b[0;34m,\u001b[0m\u001b[0;34m'EOG/EOCSubjects_GLP_SWD'\u001b[0m\u001b[0;34m,\u001b[0m\u001b[0;34m'SBE District_Northeast'\u001b[0m\u001b[0;34m,\u001b[0m\u001b[0;34m'Developing_TCHR_Standard 1_Pct'\u001b[0m\u001b[0;34m,\u001b[0m\u001b[0;34m'Developing_TCHR_Standard 5_Pct'\u001b[0m\u001b[0;34m,\u001b[0m\u001b[0;34m'lea_wap_per_classroom'\u001b[0m\u001b[0;34m,\u001b[0m\u001b[0;34m'EOCEnglish2_GLP_SWD'\u001b[0m\u001b[0;34m,\u001b[0m\u001b[0;34m'10+ Years_LEA_Exp_Pct_Prin'\u001b[0m\u001b[0;34m,\u001b[0m\u001b[0;34m'ACTCompositeScore_UNCMin_TwoorMoreRaces'\u001b[0m\u001b[0;34m,\u001b[0m\u001b[0;34m'lea_tchyrs_11plus_pct'\u001b[0m\u001b[0;34m,\u001b[0m\u001b[0;34m'lea_cte_courses'\u001b[0m\u001b[0;34m,\u001b[0m\u001b[0;34m'grade_range_cd_9-13'\u001b[0m\u001b[0;34m,\u001b[0m\u001b[0;34m'ACTWorkKeys_SilverPlus_Hispanic'\u001b[0m\u001b[0;34m,\u001b[0m\u001b[0;34m'AGNR_Concentrator_Ct'\u001b[0m\u001b[0;34m,\u001b[0m\u001b[0;34m'ACTSubtests_BenchmarksMet_LEP'\u001b[0m\u001b[0;34m,\u001b[0m\u001b[0;34m'EOCSubjects_GLP_SWD'\u001b[0m\u001b[0;34m,\u001b[0m\u001b[0;34m'SBE District_Northwest'\u001b[0m\u001b[0;34m,\u001b[0m\u001b[0;34m'ACTWorkKeys_SilverPlus_EDS'\u001b[0m\u001b[0;34m,\u001b[0m\u001b[0;34m'EVAAS Growth Score'\u001b[0m\u001b[0;34m,\u001b[0m\u001b[0;34m'avg_age_media_collection'\u001b[0m\u001b[0;34m,\u001b[0m\u001b[0;34m'GraduationRate_4yr_AIG'\u001b[0m\u001b[0;34m,\u001b[0m\u001b[0;34m'EOCMathI_CACR_LEP'\u001b[0m\u001b[0;34m,\u001b[0m\u001b[0;34m'EOCBiology_CACR_SWD'\u001b[0m\u001b[0;34m,\u001b[0m\u001b[0;34m'EOCSubjects_CACR_LEP'\u001b[0m\u001b[0;34m,\u001b[0m\u001b[0;34m'tchyrs_11plus_pct'\u001b[0m\u001b[0;34m,\u001b[0m\u001b[0;34m'Byod_Yes'\u001b[0m\u001b[0;34m,\u001b[0m\u001b[0;34m'grades_BYOD_9:10:11:12:13'\u001b[0m\u001b[0;34m,\u001b[0m\u001b[0;34m'SBE District_Western'\u001b[0m\u001b[0;34m,\u001b[0m\u001b[0;34m'ACTEnglish_ACTBenchmark_Black'\u001b[0m\u001b[0;34m,\u001b[0m\u001b[0;34m'GraduationRate_5yr_Male'\u001b[0m\u001b[0;34m,\u001b[0m\u001b[0;34m'Developing_TCHR_Standard 4_Pct'\u001b[0m\u001b[0;34m,\u001b[0m\u001b[0;34m'calendar_type_txt_Regular School, Year-Round Calendar'\u001b[0m\u001b[0;34m,\u001b[0m\u001b[0;34m'Distinguished_TCHR_Standard 5_Pct'\u001b[0m\u001b[0;34m,\u001b[0m\u001b[0;34m'student_num'\u001b[0m\u001b[0;34m,\u001b[0m\u001b[0;34m'crime_per_c_num'\u001b[0m\u001b[0;34m,\u001b[0m\u001b[0;34m'lea_total_expense_num'\u001b[0m\u001b[0;34m,\u001b[0m\u001b[0;34m'EOCMathI_CACR_Black'\u001b[0m\u001b[0;34m,\u001b[0m\u001b[0;34m'Developing_TCHR_Standard 3_Pct'\u001b[0m\u001b[0;34m,\u001b[0m\u001b[0;34m'English II_Size'\u001b[0m\u001b[0;34m,\u001b[0m\u001b[0;34m'12_Size'\u001b[0m\u001b[0;34m,\u001b[0m\u001b[0;34m'0-3 Years_LEA_Exp_Pct_Prin'\u001b[0m\u001b[0;34m,\u001b[0m\u001b[0;34m'grade_range_cd_9-12'\u001b[0m\u001b[0;34m,\u001b[0m\u001b[0;34m'lea_stud_internet_comp_num'\u001b[0m\u001b[0;34m,\u001b[0m\u001b[0;34m'Developing_TCHR_Standard 2_Pct'\u001b[0m\u001b[0;34m,\u001b[0m\u001b[0;34m'HispanicMalePct'\u001b[0m\u001b[0;34m,\u001b[0m\u001b[0;34m'EOCEnglish2_CACR_LEP'\u001b[0m\u001b[0;34m,\u001b[0m\u001b[0;34m'EOCEnglish2_CACR_Black'\u001b[0m\u001b[0;34m,\u001b[0m\u001b[0;34m'EOCBiology_CACR_AmericanIndian'\u001b[0m\u001b[0;34m,\u001b[0m\u001b[0;34m'ACT_pTarget_PctMet'\u001b[0m\u001b[0;34m,\u001b[0m\u001b[0;34m'EOCBiology_GLP_SWD'\u001b[0m\u001b[0;34m,\u001b[0m\u001b[0;34m'esea_status_P'\u001b[0m\u001b[0;34m,\u001b[0m\u001b[0;34m'SBE District_Sandhills'\u001b[0m\u001b[0;34m,\u001b[0m\u001b[0;34m'GraduationRate_4yr_AmericanIndian'\u001b[0m\u001b[0;34m,\u001b[0m\u001b[0;34m'ACTCompositeScore_UNCMin_AmericanIndian'\u001b[0m\u001b[0;34m,\u001b[0m\u001b[0;34m'SRC_Grades_Devices_Sent_Home_9:10:11:12:13'\u001b[0m\u001b[0;34m,\u001b[0m\u001b[0;34m'lea_tchyrs_4thru10_pct'\u001b[0m\u001b[0;34m,\u001b[0m\u001b[0;34m'EOCEnglish2_CACR_AmericanIndian'\u001b[0m\u001b[0;34m,\u001b[0m\u001b[0;34m'long_susp_per_c_num'\u001b[0m\u001b[0;34m,\u001b[0m\u001b[0;34m'ACTWorkKeys_SilverPlus_AmericanIndian'\u001b[0m\u001b[0;34m,\u001b[0m\u001b[0;34m'11_Size'\u001b[0m\u001b[0;34m,\u001b[0m\u001b[0;34m'grades_1_to_1_access_9:10:11:12:13'\u001b[0m\u001b[0;34m,\u001b[0m\u001b[0;34m'tchyrs_4thru10_pct'\u001b[0m\u001b[0;34m,\u001b[0m\u001b[0;34m'lea_long_susp_per_c_num'\u001b[0m\u001b[0;34m,\u001b[0m\u001b[0;34m'IndianFemalePct'\u001b[0m\u001b[0;34m,\u001b[0m\u001b[0;34m'EOCMathI_GLP_LEP'\u001b[0m\u001b[0;34m,\u001b[0m\u001b[0;34m'EOCSubjects_GLP_LEP'\u001b[0m\u001b[0;34m,\u001b[0m\u001b[0;34m'GraduationRate_4yr_TwoorMoreRaces'\u001b[0m\u001b[0;34m,\u001b[0m\u001b[0;34m'EOCEnglish2_GLP_LEP'\u001b[0m\u001b[0;34m,\u001b[0m\u001b[0;34m'EOG/EOCSubjects_GLP_LEP'\u001b[0m\u001b[0;34m,\u001b[0m\u001b[0;34m'TwoOrMoreFemalePct'\u001b[0m\u001b[0;34m,\u001b[0m\u001b[0;34m'GraduationRate_5yr_AmericanIndian'\u001b[0m\u001b[0;34m,\u001b[0m\u001b[0;34m'ACTWriting_ACTBenchmark_AmericanIndian'\u001b[0m\u001b[0;34m,\u001b[0m\u001b[0;34m'TotalTargets_pTarget_PctMet'\u001b[0m\u001b[0;34m,\u001b[0m\u001b[0;34m'grade_range_cd_6-13'\u001b[0m\u001b[0;34m,\u001b[0m\u001b[0;34m'ACTWorkKeys_SilverPlus_Asian'\u001b[0m\u001b[0;34m,\u001b[0m\u001b[0;34m'Biology_Size'\u001b[0m\u001b[0;34m,\u001b[0m\u001b[0;34m'HispanicPct'\u001b[0m\u001b[0;34m,\u001b[0m\u001b[0;34m'ACTScience_ACTBenchmark_LEP'\u001b[0m\u001b[0;34m,\u001b[0m\u001b[0;34m'ACTEnglish_ACTBenchmark_LEP'\u001b[0m\u001b[0;34m,\u001b[0m\u001b[0;34m'EOCBiology_CACR_Black'\u001b[0m\u001b[0;34m]\u001b[0m\u001b[0;34m]\u001b[0m\u001b[0;34m\u001b[0m\u001b[0m\n\u001b[1;32m      6\u001b[0m \u001b[0mhs_2017\u001b[0m\u001b[0;34m.\u001b[0m\u001b[0minfo\u001b[0m\u001b[0;34m(\u001b[0m\u001b[0;34m)\u001b[0m\u001b[0;34m\u001b[0m\u001b[0m\n\u001b[0;32m----> 7\u001b[0;31m \u001b[0mpd\u001b[0m\u001b[0;34m.\u001b[0m\u001b[0mwrite_csv\u001b[0m\u001b[0;34m(\u001b[0m\u001b[0mhs_2017\u001b[0m\u001b[0;34m,\u001b[0m \u001b[0;34m\"hs_2017.csv\"\u001b[0m\u001b[0;34m)\u001b[0m\u001b[0;34m\u001b[0m\u001b[0m\n\u001b[0m",
      "\u001b[0;31mAttributeError\u001b[0m: module 'pandas' has no attribute 'write_csv'"
     ]
    }
   ],
   "source": [
    "sat_correlation = abs_correlation_ml_final.sort_values(by='sat_high_level',ascending=False)\n",
    "hs_2017_sat_high = sat_correlation.loc[sat_correlation['sat_high_level'] >= 0.10]\n",
    "hs_2017_sat_high = hs_2017_sat_high[['sat_high_level']]\n",
    "# hs_2017_sat_high.to_csv(path_or_buf='./hs_2017_sat_high.csv')\n",
    "hs_2017 = hs_2017[['sat_high_level','sat_avg_score_num','ACTMath_ACTBenchmark_All','ACTScience_ACTBenchmark_All','ACTMath_ACTBenchmark_Female','ACTScience_ACTBenchmark_Female','ACTReading_ACTBenchmark_Female','ACTEnglish_ACTBenchmark_Female','ACTMath_ACTBenchmark_Male','ACTScience_ACTBenchmark_Male','ACT Score','Gr_9_Pct_Prof','ACTCompositeScore_UNCMin_Female','ACTWriting_ACTBenchmark_All','EOCSubjects_CACR_All','ACTMath_ACTBenchmark_White','SPG Score','EOCMathI_CACR_Male','ACTSubtests_BenchmarksMet_White','ACTScience_ACTBenchmark_White','ACTCompositeScore_UNCMin_Male','pct_eds','lea_sat_avg_score_num','NC Math 1 Score','EOCEnglish2_CACR_Female','EOCEnglish2_CACR_Male','EOCSubjects_CACR_White','ACTWriting_ACTBenchmark_Male','ACTSubtests_BenchmarksMet_EDS','EOCMathI_CACR_White','ACTSubtests_BenchmarksMet_AIG','EOCBiology_CACR_Female','ACTWriting_ACTBenchmark_White','English II Score','ACTScience_ACTBenchmark_AIG','ACTScience_ACTBenchmark_EDS','ACTSubtests_BenchmarksMet_Hispanic','Biology Score','EOCBiology_CACR_Male','EOCEnglish2_CACR_White','ACTMath_ACTBenchmark_EDS','4-Year Cohort Graduation Rate Score','ACTCompositeScore_UNCMin_White','EOCSubjects_CACR_EDS','ACTWriting_ACTBenchmark_AIG','lea_ap_pct_3_or_above','ACTReading_ACTBenchmark_EDS','EOCSubjects_CACR_Hispanic','MW_White_ENROLL_sch_pct','BlackPct','EOCBiology_CACR_White','ACTWriting_ACTBenchmark_EDS','EOCMathI_CACR_EDS','ACTSubtests_BenchmarksMet_Asian','ACTEnglish_ACTBenchmark_EDS','BlackMalePct','ap_pct_3_or_above','short_susp_per_c_num','Proficient_TCHR_Standard 4_Pct','MinorityPct','ACTMath_ACTBenchmark_AIG','ACTCompositeScore_UNCMin_EDS','MinorityMalePct','SPG Grade_C','lateral_teach_pct','ACTSubtests_BenchmarksMet_TwoorMoreRaces','avg_daily_attend_pct','lea_federal_perpupil_num','Proficient_TCHR_Standard 1_Pct','BlackFemalePct','EOCEnglish2_CACR_EDS','flicensed_teach_pct','ACTSubtests_BenchmarksMet_Black','Proficient_TCHR_Standard 2_Pct','lea_salary_expense_pct','ACTScience_ACTBenchmark_Hispanic','lea_flicensed_teach_pct','lea_nbpts_num','advance_dgr_pct','lea_short_susp_per_c_num','EOCSubjects_CACR_Asian','lea_ap_participation_pct','lea_advance_dgr_pct','ACTWriting_ACTBenchmark_Hispanic','Proficient_TCHR_Standard 3_Pct','Proficient_TCHR_Standard 5_Pct','ACTMath_ACTBenchmark_Hispanic','Exceeds Expected Growth_TCHR_Student Growth_Pct','Does Not Meet Expected Growth_TCHR_Student Growth_Pct','EOCBiology_CACR_Asian','ACTReading_ACTBenchmark_Hispanic','EOCEnglish2_CACR_Asian','MinorityFemalePct','ACTSubtests_BenchmarksMet_SWD','nbpts_num','MB_Black_ENROLL_sch_pct','ap_participation_pct','AsianFemalePct','cte_courses','Accomplished_TCHR_Standard 4_Pct','EOCBiology_CACR_EDS','Accomplished_TCHR_Standard 5_Pct','ACTEnglish_ACTBenchmark_Hispanic','ACTWriting_ACTBenchmark_Asian','ACTScience_ACTBenchmark_Black','ACTEnglish_ACTBenchmark_SWD','Accomplished_TCHR_Standard 2_Pct','ACTCompositeScore_UNCMin_SWD','ACTCompositeScore_UNCMin_Asian','AsianMalePct','EOCMathI_CACR_Hispanic','ACTReading_ACTBenchmark_SWD','lea_supplies_expense_pct','EOCMathI_CACR_Asian','Accomplished_TCHR_Standard 1_Pct','ALL_All Students (Total or Subtotal_ENROLL_sch_pct','ACTScience_ACTBenchmark_SWD','ACTMath_ACTBenchmark_SWD','GraduationRate_4yr_Male','GraduationRate_4yr_Asian','M_Male_ENROLL_sch_pct','State Gap Compared_Y','tchyrs_0thru3_pct','GraduationRate_4yr_Female','lea_state_perpupil_num','GraduationRate_5yr_Asian','Accomplished_TCHR_Standard 3_Pct','GraduationRate_4yr_White','EOCSubjects_CACR_Black','lea_tchyrs_0thru3_pct','lea_avg_daily_attend_pct','ACTMath_ACTBenchmark_Black','EOCEnglish2_CACR_Hispanic','EOCSubjects_CACR_AIG','ACTScience_ACTBenchmark_TwoorMoreRaces','ACTMath_ACTBenchmark_TwoorMoreRaces','GraduationRate_5yr_White','EOCBiology_CACR_TwoorMoreRaces','lea_local_perpupil_num','EOCMathI_CACR_AIG','EOCMathI_CACR_TwoorMoreRaces','lea_1yr_tchr_trnovr_pct','Distinguished_TCHR_Standard 4_Pct','ACTWriting_ACTBenchmark_SWD','ACTWorkKeys_SilverPlus_Black','EOCBiology_CACR_Hispanic','ACTCompositeScore_UNCMin_Hispanic','EOCBiology_CACR_AIG','SPG Grade_A+NG','EOCSubjects_CACR_TwoorMoreRaces','ACTWriting_ACTBenchmark_TwoorMoreRaces','EOCMathI_CACR_SWD','Distinguished_TCHR_Standard 1_Pct','EVAAS Growth Status_NotMet','GraduationRate_4yr_Black','SPG Grade_B','ACTReading_ACTBenchmark_Black','SPG Grade_D','lea_avg_student_num','_1yr_tchr_trnovr_pct','EOG/EOCSubjects_CACR_SWD','GraduationRate_5yr_All','EOCEnglish2_CACR_SWD','lea_books_per_student','ACTWriting_ACTBenchmark_Black','GraduationRate_5yr_Black','lea_instruct_equip_exp_pct','lea_services_expense_pct','EOCSubjects_CACR_SWD','ACTReading_ACTBenchmark_TwoorMoreRaces','F_Female_ENROLL_sch_pct','EOCEnglish2_CACR_AIG','univ_college_courses','Distinguished_TCHR_Standard 3_Pct','GraduationRate_5yr_Female','ACTCompositeScore_UNCMin_AIG','EOCEnglish2_CACR_TwoorMoreRaces','Distinguished_TCHR_Standard 2_Pct','EOCMathI_GLP_SWD','EOG/EOCSubjects_GLP_SWD','SBE District_Northeast','Developing_TCHR_Standard 1_Pct','Developing_TCHR_Standard 5_Pct','lea_wap_per_classroom','EOCEnglish2_GLP_SWD','10+ Years_LEA_Exp_Pct_Prin','ACTCompositeScore_UNCMin_TwoorMoreRaces','lea_tchyrs_11plus_pct','lea_cte_courses','grade_range_cd_9-13','ACTWorkKeys_SilverPlus_Hispanic','AGNR_Concentrator_Ct','ACTSubtests_BenchmarksMet_LEP','EOCSubjects_GLP_SWD','SBE District_Northwest','ACTWorkKeys_SilverPlus_EDS','EVAAS Growth Score','avg_age_media_collection','GraduationRate_4yr_AIG','EOCMathI_CACR_LEP','EOCBiology_CACR_SWD','EOCSubjects_CACR_LEP','tchyrs_11plus_pct','Byod_Yes','grades_BYOD_9:10:11:12:13','SBE District_Western','ACTEnglish_ACTBenchmark_Black','GraduationRate_5yr_Male','Developing_TCHR_Standard 4_Pct','calendar_type_txt_Regular School, Year-Round Calendar','Distinguished_TCHR_Standard 5_Pct','student_num','crime_per_c_num','lea_total_expense_num','EOCMathI_CACR_Black','Developing_TCHR_Standard 3_Pct','English II_Size','12_Size','0-3 Years_LEA_Exp_Pct_Prin','grade_range_cd_9-12','lea_stud_internet_comp_num','Developing_TCHR_Standard 2_Pct','HispanicMalePct','EOCEnglish2_CACR_LEP','EOCEnglish2_CACR_Black','EOCBiology_CACR_AmericanIndian','ACT_pTarget_PctMet','EOCBiology_GLP_SWD','esea_status_P','SBE District_Sandhills','GraduationRate_4yr_AmericanIndian','ACTCompositeScore_UNCMin_AmericanIndian','SRC_Grades_Devices_Sent_Home_9:10:11:12:13','lea_tchyrs_4thru10_pct','EOCEnglish2_CACR_AmericanIndian','long_susp_per_c_num','ACTWorkKeys_SilverPlus_AmericanIndian','11_Size','grades_1_to_1_access_9:10:11:12:13','tchyrs_4thru10_pct','lea_long_susp_per_c_num','IndianFemalePct','EOCMathI_GLP_LEP','EOCSubjects_GLP_LEP','GraduationRate_4yr_TwoorMoreRaces','EOCEnglish2_GLP_LEP','EOG/EOCSubjects_GLP_LEP','TwoOrMoreFemalePct','GraduationRate_5yr_AmericanIndian','ACTWriting_ACTBenchmark_AmericanIndian','TotalTargets_pTarget_PctMet','grade_range_cd_6-13','ACTWorkKeys_SilverPlus_Asian','Biology_Size','HispanicPct','ACTScience_ACTBenchmark_LEP','ACTEnglish_ACTBenchmark_LEP','EOCBiology_CACR_Black']]\n",
    "hs_2017.info()\n",
    "hs_2017.to_"
   ]
  },
  {
   "cell_type": "code",
   "execution_count": 82,
   "metadata": {},
   "outputs": [
    {
     "data": {
      "image/png": "[encoded data removed]",
      "text/plain": [
       "<Figure size 432x288 with 1 Axes>"
      ]
     },
     "metadata": {},
     "output_type": "display_data"
    }
   ],
   "source": [
    "import pandas as pd\n",
    "import numpy as np\n",
    "from sklearn import preprocessing\n",
    "import matplotlib.pyplot as plt \n",
    "plt.rc(\"font\", size=14)\n",
    "from sklearn.linear_model import LogisticRegression\n",
    "from sklearn.model_selection import train_test_split\n",
    "import seaborn as sns\n",
    "sns.set(style=\"white\")\n",
    "sns.set(style=\"whitegrid\", color_codes=True)\n",
    "\n",
    "sns.countplot(x='sat_high_level',data=hs_2017, palette='hls')\n",
    "plt.show()"
   ]
  },
  {
   "cell_type": "code",
   "execution_count": 83,
   "metadata": {},
   "outputs": [],
   "source": [
    "# logistic regression steps from\n",
    "\n",
    "X = hs_2017.iloc[:,1:]\n",
    "y = hs_2017.iloc[:,0]\n",
    "X_train, X_test, y_train, y_test = train_test_split(X, y, random_state=0, test_size=0.2)"
   ]
  },
  {
   "cell_type": "code",
   "execution_count": 84,
   "metadata": {},
   "outputs": [
    {
     "data": {
      "text/plain": [
       "LogisticRegression(C=1.0, class_weight=None, dual=False, fit_intercept=True,\n",
       "          intercept_scaling=1, max_iter=100, multi_class='ovr', n_jobs=1,\n",
       "          penalty='l2', random_state=0, solver='liblinear', tol=0.0001,\n",
       "          verbose=0, warm_start=False)"
      ]
     },
     "execution_count": 84,
     "metadata": {},
     "output_type": "execute_result"
    }
   ],
   "source": [
    "classifier = LogisticRegression(random_state=0)\n",
    "classifier.fit(X_train, y_train)"
   ]
  },
  {
   "cell_type": "code",
   "execution_count": 85,
   "metadata": {},
   "outputs": [
    {
     "name": "stdout",
     "output_type": "stream",
     "text": [
      "[[47  4]\n",
      " [ 8 26]]\n"
     ]
    }
   ],
   "source": [
    "y_pred = classifier.predict(X_test)\n",
    "from sklearn.metrics import confusion_matrix\n",
    "confusion_matrix = confusion_matrix(y_test, y_pred)\n",
    "print(confusion_matrix)"
   ]
  },
  {
   "cell_type": "code",
   "execution_count": 86,
   "metadata": {},
   "outputs": [
    {
     "name": "stdout",
     "output_type": "stream",
     "text": [
      "Accuracy of logistic regression classifier on test set: 0.86\n"
     ]
    }
   ],
   "source": [
    "print('Accuracy of logistic regression classifier on test set: {:.2f}'.format(classifier.score(X_test, y_test)))"
   ]
  },
  {
   "cell_type": "code",
   "execution_count": 87,
   "metadata": {},
   "outputs": [
    {
     "name": "stdout",
     "output_type": "stream",
     "text": [
      "Accuracy of 10-fold cross-validated logistic regression classifier on test set: 0.8779761904761905\n",
      "\n",
      "              precision    recall  f1-score   support\n",
      "\n",
      "        0.0       0.91      0.89      0.90       211\n",
      "        1.0       0.82      0.86      0.84       125\n",
      "\n",
      "avg / total       0.88      0.88      0.88       336\n",
      "\n"
     ]
    }
   ],
   "source": [
    "from sklearn.linear_model import LogisticRegression\n",
    "from sklearn import metrics, cross_validation\n",
    "\n",
    "predicted = cross_validation.cross_val_predict(LogisticRegression(), X_train, y_train, cv=10)\n",
    "print('Accuracy of 10-fold cross-validated logistic regression classifier on test set:',metrics.accuracy_score(y_train, predicted))\n",
    "print('\\n',metrics.classification_report(y_train, predicted))"
   ]
  },
  {
   "cell_type": "code",
   "execution_count": null,
   "metadata": {},
   "outputs": [],
   "source": []
  }
 ],
 "metadata": {
  "kernelspec": {
   "display_name": "Python 3",
   "language": "python",
   "name": "python3"
  },
  "language_info": {
   "codemirror_mode": {
    "name": "ipython",
    "version": 3
   },
   "file_extension": ".py",
   "mimetype": "text/x-python",
   "name": "python",
   "nbconvert_exporter": "python",
   "pygments_lexer": "ipython3",
   "version": "3.6.5"
  }
 },
 "nbformat": 4,
 "nbformat_minor": 2
}
