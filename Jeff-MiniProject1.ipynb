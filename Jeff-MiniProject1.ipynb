{
 "cells": [
  {
   "cell_type": "code",
   "execution_count": 40,
   "metadata": {},
   "outputs": [],
   "source": [
    "%config IPCompleter.greedy=True\n",
    "import numpy as np\n",
    "import pandas as pd\n",
    "\n",
    "# Read dataset off Github\n",
    "ml_hs_2017_all = pd.read_csv(\"https://github.com/jakemdrew/EducationDataNC/raw/master/2017/Machine%20Learning%20Datasets/PublicHighSchools2017_ML.csv\")\n",
    "\n",
    "# creating categorical variable from existing column - https://stackoverflow.com/a/49269107\n",
    "ml_hs_2017_all.loc[ml_hs_2017_all['sat_avg_score_num'] < 1150,'sat_high_level'] = 0\n",
    "ml_hs_2017_all.loc[ml_hs_2017_all['sat_avg_score_num'] >= 1150,'sat_high_level'] = 1\n",
    "\n",
    "# subsetting to remove rows where no average SAT score was reported\n",
    "ml_hs_2017 = ml_hs_2017_all.loc[ml_hs_2017_all['sat_avg_score_num'] >0]"
   ]
  },
  {
   "cell_type": "code",
   "execution_count": 41,
   "metadata": {},
   "outputs": [],
   "source": [
    "zero_counts = []\n",
    "for column in ml_hs_2017:\n",
    "    zero_counts.append({'Column': column, 'count': np.sum((ml_hs_2017[column]==0)), 'Percentage': np.sum((ml_hs_2017[column]==0)/len(ml_hs_2017))})"
   ]
  },
  {
   "cell_type": "code",
   "execution_count": 42,
   "metadata": {},
   "outputs": [],
   "source": [
    "zero_counts = pd.DataFrame(zero_counts)\n",
    "to_drop = zero_counts.loc[zero_counts['Percentage'] >= .999]\n",
    "hs_2017 = ml_hs_2017.drop(to_drop['Column'], axis=1)"
   ]
  },
  {
   "cell_type": "code",
   "execution_count": 43,
   "metadata": {},
   "outputs": [],
   "source": [
    "# derive the absolute pearson's r for correlation, convert to dataframe\n",
    "\n",
    "abs_correlation_ml_final = hs_2017.corr(method='pearson').abs()\n",
    "abs_correlation_ml_final = pd.DataFrame(abs_correlation_ml_final)"
   ]
  },
  {
   "cell_type": "code",
   "execution_count": 61,
   "metadata": {},
   "outputs": [
    {
     "name": "stdout",
     "output_type": "stream",
     "text": [
      "<class 'pandas.core.frame.DataFrame'>\n",
      "Int64Index: 421 entries, 0 to 469\n",
      "Columns: 127 entries, sat_high_level to Accomplished_TCHR_Standard 2_Pct\n",
      "dtypes: float64(125), int64(2)\n",
      "memory usage: 441.0 KB\n"
     ]
    }
   ],
   "source": [
    "sat_correlation = abs_correlation_ml_final.sort_values(by='sat_high_level',ascending=False)\n",
    "hs_2017_sat_high = sat_correlation.loc[sat_correlation['sat_high_level'] >= 0.25]\n",
    "\n",
    "hs_2017 = hs_2017[['sat_high_level','sat_avg_score_num','ACTScience_ACTBenchmark_All','ACTMath_ACTBenchmark_All','ACTScience_ACTBenchmark_Female','ACTMath_ACTBenchmark_Female','ACTReading_ACTBenchmark_Female','ACTScience_ACTBenchmark_Male','ACTMath_ACTBenchmark_Male','ACTScience_ACTBenchmark_White','ACTEnglish_ACTBenchmark_Female','ACTMath_ACTBenchmark_White','Gr_9_Pct_Prof','ACT Score','ACTWriting_ACTBenchmark_All','ACTSubtests_BenchmarksMet_White','EOCSubjects_CACR_All','ACTCompositeScore_UNCMin_Female','EOCMathI_CACR_Male','SPG Score','pct_eds','ACTSubtests_BenchmarksMet_AIG','ACTCompositeScore_UNCMin_Male','EOCEnglish2_CACR_Male','ACTWriting_ACTBenchmark_White','EOCMathI_CACR_White','ACTWriting_ACTBenchmark_Male','EOCSubjects_CACR_White','EOCEnglish2_CACR_Female','NC Math 1 Score','lea_sat_avg_score_num','ACTSubtests_BenchmarksMet_EDS','EOCBiology_CACR_Female','English II Score','ACTScience_ACTBenchmark_AIG','EOCEnglish2_CACR_White','ACTCompositeScore_UNCMin_White','lea_ap_pct_3_or_above','ACTSubtests_BenchmarksMet_Hispanic','EOCBiology_CACR_Male','Biology Score','EOCSubjects_CACR_Hispanic','ACTScience_ACTBenchmark_EDS','ACTSubtests_BenchmarksMet_Asian','ACTSubtests_BenchmarksMet_TwoorMoreRaces','EOCSubjects_CACR_EDS','EOCBiology_CACR_White','4-Year Cohort Graduation Rate Score','ACTReading_ACTBenchmark_EDS','ACTWriting_ACTBenchmark_AIG','ACTMath_ACTBenchmark_EDS','EOCMathI_CACR_EDS','ACTSubtests_BenchmarksMet_Black','ap_pct_3_or_above','ACTMath_ACTBenchmark_AIG','ACTWriting_ACTBenchmark_EDS','EOCBiology_CACR_Asian','ap_participation_pct','ACTWriting_ACTBenchmark_Asian','MW_White_ENROLL_sch_pct','ACTSubtests_BenchmarksMet_SWD','ACTCompositeScore_UNCMin_Asian','BlackPct','EOCEnglish2_CACR_Asian','SPG Grade_C','lateral_teach_pct','AsianFemalePct','short_susp_per_c_num','BlackMalePct','advance_dgr_pct','ACTEnglish_ACTBenchmark_EDS','flicensed_teach_pct','lea_nbpts_num','avg_daily_attend_pct','EOCMathI_CACR_Asian','EOCEnglish2_CACR_EDS','Proficient_TCHR_Standard 4_Pct','lea_federal_perpupil_num','nbpts_num','lea_ap_participation_pct','MinorityMalePct','ACTCompositeScore_UNCMin_EDS','MinorityPct','cte_courses','AsianMalePct','EOCSubjects_CACR_Asian','ACTScience_ACTBenchmark_Black','BlackFemalePct','ACTReading_ACTBenchmark_SWD','ACTScience_ACTBenchmark_Hispanic','lea_advance_dgr_pct','ACTMath_ACTBenchmark_SWD','GraduationRate_4yr_Asian','GraduationRate_5yr_Asian','ACTScience_ACTBenchmark_SWD','Does Not Meet Expected Growth_TCHR_Student Growth_Pct','ACTEnglish_ACTBenchmark_SWD','Proficient_TCHR_Standard 1_Pct','Proficient_TCHR_Standard 2_Pct','lea_salary_expense_pct','ACTCompositeScore_UNCMin_SWD','ACTWriting_ACTBenchmark_Hispanic','ACTMath_ACTBenchmark_Hispanic','Proficient_TCHR_Standard 5_Pct','lea_short_susp_per_c_num','ACTScience_ACTBenchmark_TwoorMoreRaces','State Gap Compared_Y','ACTMath_ACTBenchmark_TwoorMoreRaces','lea_flicensed_teach_pct','ACTReading_ACTBenchmark_Hispanic','MB_Black_ENROLL_sch_pct','lea_supplies_expense_pct','Exceeds Expected Growth_TCHR_Student Growth_Pct','Proficient_TCHR_Standard 3_Pct','ACTMath_ACTBenchmark_Black','EOCMathI_CACR_Hispanic','GraduationRate_4yr_Male','M_Male_ENROLL_sch_pct','lea_local_perpupil_num','EOCBiology_CACR_EDS','tchyrs_0thru3_pct','Accomplished_TCHR_Standard 4_Pct','ACTEnglish_ACTBenchmark_Hispanic','MinorityFemalePct','Accomplished_TCHR_Standard 5_Pct','ACTWriting_ACTBenchmark_SWD','Accomplished_TCHR_Standard 2_Pct']]\n",
    "hs_2017.info()"
   ]
  },
  {
   "cell_type": "code",
   "execution_count": 62,
   "metadata": {},
   "outputs": [
    {
     "data": {
      "image/png": "[encoded data removed]",
      "text/plain": [
       "<Figure size 432x288 with 1 Axes>"
      ]
     },
     "metadata": {},
     "output_type": "display_data"
    }
   ],
   "source": [
    "import pandas as pd\n",
    "import numpy as np\n",
    "from sklearn import preprocessing\n",
    "import matplotlib.pyplot as plt \n",
    "plt.rc(\"font\", size=14)\n",
    "from sklearn.linear_model import LogisticRegression\n",
    "from sklearn.cross_validation import train_test_split\n",
    "import seaborn as sns\n",
    "sns.set(style=\"white\")\n",
    "sns.set(style=\"whitegrid\", color_codes=True)\n",
    "\n",
    "sns.countplot(x='sat_high_level',data=hs_2017, palette='hls')\n",
    "plt.show()"
   ]
  },
  {
   "cell_type": "code",
   "execution_count": 63,
   "metadata": {},
   "outputs": [],
   "source": [
    "X = hs_2017.iloc[:,1:]\n",
    "y = hs_2017.iloc[:,0]\n",
    "X_train, X_test, y_train, y_test = train_test_split(X, y, random_state=0, test_size=0.2)"
   ]
  },
  {
   "cell_type": "code",
   "execution_count": 64,
   "metadata": {},
   "outputs": [
    {
     "data": {
      "text/plain": [
       "LogisticRegression(C=1.0, class_weight=None, dual=False, fit_intercept=True,\n",
       "          intercept_scaling=1, max_iter=100, multi_class='ovr', n_jobs=1,\n",
       "          penalty='l2', random_state=0, solver='liblinear', tol=0.0001,\n",
       "          verbose=0, warm_start=False)"
      ]
     },
     "execution_count": 64,
     "metadata": {},
     "output_type": "execute_result"
    }
   ],
   "source": [
    "classifier = LogisticRegression(random_state=0)\n",
    "classifier.fit(X_train, y_train)"
   ]
  },
  {
   "cell_type": "code",
   "execution_count": 65,
   "metadata": {},
   "outputs": [
    {
     "name": "stdout",
     "output_type": "stream",
     "text": [
      "[[72  1]\n",
      " [ 4  8]]\n"
     ]
    }
   ],
   "source": [
    "y_pred = classifier.predict(X_test)\n",
    "from sklearn.metrics import confusion_matrix\n",
    "confusion_matrix = confusion_matrix(y_test, y_pred)\n",
    "print(confusion_matrix)"
   ]
  },
  {
   "cell_type": "code",
   "execution_count": 66,
   "metadata": {},
   "outputs": [
    {
     "name": "stdout",
     "output_type": "stream",
     "text": [
      "Accuracy of logistic regression classifier on test set: 0.94\n"
     ]
    }
   ],
   "source": [
    "print('Accuracy of logistic regression classifier on test set: {:.2f}'.format(classifier.score(X_test, y_test)))"
   ]
  },
  {
   "cell_type": "code",
   "execution_count": null,
   "metadata": {},
   "outputs": [],
   "source": []
  }
 ],
 "metadata": {
  "kernelspec": {
   "display_name": "Python 3",
   "language": "python",
   "name": "python3"
  },
  "language_info": {
   "codemirror_mode": {
    "name": "ipython",
    "version": 3
   },
   "file_extension": ".py",
   "mimetype": "text/x-python",
   "name": "python",
   "nbconvert_exporter": "python",
   "pygments_lexer": "ipython3",
   "version": "3.6.5"
  }
 },
 "nbformat": 4,
 "nbformat_minor": 2
}
