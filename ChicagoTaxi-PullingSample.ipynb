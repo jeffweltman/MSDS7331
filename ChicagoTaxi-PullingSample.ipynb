{
 "cells": [
  {
   "cell_type": "code",
   "execution_count": null,
   "metadata": {},
   "outputs": [],
   "source": [
    "import pandas as pd\n",
    "from sodapy import Socrata\n",
    "\n",
    "# replace the 'None' with your quoted API token\n",
    "client = Socrata(\"data.cityofchicago.org\",None)\n",
    "\n",
    "# First 2000 results, returned as JSON from API / converted to Python list of\n",
    "# dictionaries by sodapy.\n",
    "\n",
    "q1 = client.get(\"wrvz-psew\", where=\"trip_end_timestamp between '2016-01-01T00:00:00' AND '2016-03-31T00:00:00'\", exclude_system_fields=False, limit=1000000)\n",
    "q2 = client.get(\"wrvz-psew\", where=\"trip_end_timestamp between '2016-04-01T00:00:00' AND '2016-06-30T00:00:00'\", exclude_system_fields=False, limit=1000000)\n",
    "q3 = client.get(\"wrvz-psew\", where=\"trip_end_timestamp between '2016-07-01T00:00:00' AND '2016-09-30T00:00:00'\", exclude_system_fields=False, limit=1000000)\n",
    "q4 = client.get(\"wrvz-psew\", where=\"trip_end_timestamp between '2016-10-01T00:00:00' AND '2016-12-31T00:00:00'\", exclude_system_fields=False, limit=1000000)\n",
    "\n",
    "# Convert to pandas DataFrame\n",
    "q1_df = pd.DataFrame.from_records(q1)\n",
    "q1_df_sample = q1_df.sample(n=100000)\n",
    "#q1_df_sample.to_csv(path_or_buf='./chicago_taxi_q1_2016.csv', sep=',')\n",
    "\n",
    "q2_df = pd.DataFrame.from_records(q2)\n",
    "q2_df_sample = q2_df.sample(n=100000)\n",
    "#q2_df_sample.to_csv(path_or_buf='./chicago_taxi_q2_2016.csv', sep=',')\n",
    "\n",
    "q3_df = pd.DataFrame.from_records(q3)\n",
    "q3_df_sample = q3_df.sample(n=100000)\n",
    "#q3_df_sample.to_csv(path_or_buf='./chicago_taxi_q3_2016.csv', sep=',')\n",
    "\n",
    "q4_df = pd.DataFrame.from_records(q4)\n",
    "q4_df_sample = q4_df.sample(n=100000)\n",
    "#q4_df_sample.to_csv(path_or_buf='./chicago_taxi_q4_2016.csv', sep=',')\n",
    "\n",
    "print('samples prepared')"
   ]
  },
  {
   "cell_type": "code",
   "execution_count": 8,
   "metadata": {},
   "outputs": [
    {
     "name": "stdout",
     "output_type": "stream",
     "text": [
      "Appending stage 1 - complete\n"
     ]
    }
   ],
   "source": [
    "FirstHalf_2016 = q1_df_sample.append(q2_df_sample)\n",
    "SecondHalf_2016 = q3_df_sample.append(q4_df_sample)\n",
    "print('Appending stage 1 - complete')"
   ]
  },
  {
   "cell_type": "code",
   "execution_count": 9,
   "metadata": {},
   "outputs": [],
   "source": [
    "CY2016 = FirstHalf_2016.append(SecondHalf_2016)\n",
    "\n",
    "# Output to csv file\n",
    "CY2016.to_csv(path_or_buf='./chicago_taxi_2016.csv', sep=',')\n",
    "print('File Created')"
   ]
  },
  {
   "cell_type": "code",
   "execution_count": null,
   "metadata": {},
   "outputs": [],
   "source": []
  }
 ],
 "metadata": {
  "kernelspec": {
   "display_name": "Python 3",
   "language": "python",
   "name": "python3"
  },
  "language_info": {
   "codemirror_mode": {
    "name": "ipython",
    "version": 3
   },
   "file_extension": ".py",
   "mimetype": "text/x-python",
   "name": "python",
   "nbconvert_exporter": "python",
   "pygments_lexer": "ipython3",
   "version": "3.6.5"
  }
 },
 "nbformat": 4,
 "nbformat_minor": 2
}
