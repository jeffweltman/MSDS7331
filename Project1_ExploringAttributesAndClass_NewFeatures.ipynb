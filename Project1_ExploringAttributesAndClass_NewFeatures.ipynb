{
 "cells": [
  {
   "cell_type": "markdown",
   "metadata": {},
   "source": [
    "# Explore Attributes and Class\n"
   ]
  },
  {
   "cell_type": "code",
   "execution_count": null,
   "metadata": {},
   "outputs": [],
   "source": []
  },
  {
   "cell_type": "markdown",
   "metadata": {},
   "source": [
    "# New Features\n",
    "\n",
    "This dataset already spans a wide variety of attributes. Nevertheless, there are a few additional data points which may provide additional insight. Adding a subset of historical columns would be beneficial in tracking trends. With respect to our focus on aptitude tests, maintaining a record of the previous year or two for the school's average SAT and ACT scores would be a useful addition. Furthermore, it would be beneficial to add tardiness data to complement the existing attendance data. Average daily tardiness could plausibly be a factor in a number of academic performance metrics.\n",
    "\n",
    "This dataset focuses entirely on schools and their performance, educators, and student composition.  So many other factors external to school can affect a student's learning capabilities.  Looking at levels of poverty, median annual income, crime, and other factors in the surrounding community could provide addiitional insight.  Ideally this information would be collected at the school level, but realistically collecting at the district level would prove more tenable.  With access to school district boundaries and GIS platforms, some of this data could be extracted using census data at the tract level."
   ]
  },
  {
   "cell_type": "code",
   "execution_count": null,
   "metadata": {},
   "outputs": [],
   "source": []
  }
 ],
 "metadata": {
  "kernelspec": {
   "display_name": "Python 3",
   "language": "python",
   "name": "python3"
  },
  "language_info": {
   "codemirror_mode": {
    "name": "ipython",
    "version": 3
   },
   "file_extension": ".py",
   "mimetype": "text/x-python",
   "name": "python",
   "nbconvert_exporter": "python",
   "pygments_lexer": "ipython3",
   "version": "3.6.5"
  }
 },
 "nbformat": 4,
 "nbformat_minor": 2
}
